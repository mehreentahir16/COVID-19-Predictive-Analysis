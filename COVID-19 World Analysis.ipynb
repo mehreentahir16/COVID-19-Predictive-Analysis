{
 "cells": [
  {
   "cell_type": "code",
   "execution_count": 45,
   "metadata": {},
   "outputs": [],
   "source": [
    "import pandas as pd\n",
    "import numpy as np \n",
    "import matplotlib.pyplot as plt\n",
    "import seaborn as sns\n",
    "import plotly.express as px\n",
    "%matplotlib inline\n",
    "import warnings\n",
    "mpl.style.use('seaborn') \n",
    "warnings.filterwarnings(\"ignore\")"
   ]
  },
  {
   "cell_type": "markdown",
   "metadata": {},
   "source": [
    "### The dataset is taken from kaggle. You can also download it following the link below:\n",
    "https://www.kaggle.com/imdevskp/corona-virus-report"
   ]
  },
  {
   "cell_type": "code",
   "execution_count": 46,
   "metadata": {},
   "outputs": [
    {
     "data": {
      "text/html": [
       "<div>\n",
       "<style scoped>\n",
       "    .dataframe tbody tr th:only-of-type {\n",
       "        vertical-align: middle;\n",
       "    }\n",
       "\n",
       "    .dataframe tbody tr th {\n",
       "        vertical-align: top;\n",
       "    }\n",
       "\n",
       "    .dataframe thead th {\n",
       "        text-align: right;\n",
       "    }\n",
       "</style>\n",
       "<table border=\"1\" class=\"dataframe\">\n",
       "  <thead>\n",
       "    <tr style=\"text-align: right;\">\n",
       "      <th></th>\n",
       "      <th>Province/State</th>\n",
       "      <th>Country/Region</th>\n",
       "      <th>Lat</th>\n",
       "      <th>Long</th>\n",
       "      <th>Date</th>\n",
       "      <th>Confirmed</th>\n",
       "      <th>Deaths</th>\n",
       "      <th>Recovered</th>\n",
       "    </tr>\n",
       "  </thead>\n",
       "  <tbody>\n",
       "    <tr>\n",
       "      <th>0</th>\n",
       "      <td>NaN</td>\n",
       "      <td>Afghanistan</td>\n",
       "      <td>33.0000</td>\n",
       "      <td>65.0000</td>\n",
       "      <td>2020-01-22</td>\n",
       "      <td>0</td>\n",
       "      <td>0</td>\n",
       "      <td>0</td>\n",
       "    </tr>\n",
       "    <tr>\n",
       "      <th>1</th>\n",
       "      <td>NaN</td>\n",
       "      <td>Albania</td>\n",
       "      <td>41.1533</td>\n",
       "      <td>20.1683</td>\n",
       "      <td>2020-01-22</td>\n",
       "      <td>0</td>\n",
       "      <td>0</td>\n",
       "      <td>0</td>\n",
       "    </tr>\n",
       "    <tr>\n",
       "      <th>2</th>\n",
       "      <td>NaN</td>\n",
       "      <td>Algeria</td>\n",
       "      <td>28.0339</td>\n",
       "      <td>1.6596</td>\n",
       "      <td>2020-01-22</td>\n",
       "      <td>0</td>\n",
       "      <td>0</td>\n",
       "      <td>0</td>\n",
       "    </tr>\n",
       "    <tr>\n",
       "      <th>3</th>\n",
       "      <td>NaN</td>\n",
       "      <td>Andorra</td>\n",
       "      <td>42.5063</td>\n",
       "      <td>1.5218</td>\n",
       "      <td>2020-01-22</td>\n",
       "      <td>0</td>\n",
       "      <td>0</td>\n",
       "      <td>0</td>\n",
       "    </tr>\n",
       "    <tr>\n",
       "      <th>4</th>\n",
       "      <td>NaN</td>\n",
       "      <td>Angola</td>\n",
       "      <td>-11.2027</td>\n",
       "      <td>17.8739</td>\n",
       "      <td>2020-01-22</td>\n",
       "      <td>0</td>\n",
       "      <td>0</td>\n",
       "      <td>0</td>\n",
       "    </tr>\n",
       "  </tbody>\n",
       "</table>\n",
       "</div>"
      ],
      "text/plain": [
       "  Province/State Country/Region      Lat     Long       Date  Confirmed  \\\n",
       "0            NaN    Afghanistan  33.0000  65.0000 2020-01-22          0   \n",
       "1            NaN        Albania  41.1533  20.1683 2020-01-22          0   \n",
       "2            NaN        Algeria  28.0339   1.6596 2020-01-22          0   \n",
       "3            NaN        Andorra  42.5063   1.5218 2020-01-22          0   \n",
       "4            NaN         Angola -11.2027  17.8739 2020-01-22          0   \n",
       "\n",
       "   Deaths  Recovered  \n",
       "0       0          0  \n",
       "1       0          0  \n",
       "2       0          0  \n",
       "3       0          0  \n",
       "4       0          0  "
      ]
     },
     "execution_count": 46,
     "metadata": {},
     "output_type": "execute_result"
    }
   ],
   "source": [
    "df = pd.read_csv('covid_19_clean_complete.csv', parse_dates=['Date'])\n",
    "df.head()"
   ]
  },
  {
   "cell_type": "code",
   "execution_count": 47,
   "metadata": {},
   "outputs": [
    {
     "name": "stdout",
     "output_type": "stream",
     "text": [
      "\n",
      "Total countries affected by virus:  188\n",
      "['Afghanistan', 'Albania', 'Algeria', 'Andorra', 'Angola', 'Antigua and Barbuda', 'Argentina', 'Armenia', 'Australia', 'Austria', 'Azerbaijan', 'Bahamas', 'Bahrain', 'Bangladesh', 'Barbados', 'Belarus', 'Belgium', 'Benin', 'Bhutan', 'Bolivia', 'Bosnia and Herzegovina', 'Brazil', 'Brunei', 'Bulgaria', 'Burkina Faso', 'Cabo Verde', 'Cambodia', 'Cameroon', 'Canada', 'Central African Republic', 'Chad', 'Chile', 'China', 'Colombia', 'Congo (Brazzaville)', 'Congo (Kinshasa)', 'Costa Rica', \"Cote d'Ivoire\", 'Croatia', 'Diamond Princess', 'Cuba', 'Cyprus', 'Czechia', 'Denmark', 'Djibouti', 'Dominican Republic', 'Ecuador', 'Egypt', 'El Salvador', 'Equatorial Guinea', 'Eritrea', 'Estonia', 'Eswatini', 'Ethiopia', 'Fiji', 'Finland', 'France', 'Gabon', 'Gambia', 'Georgia', 'Germany', 'Ghana', 'Greece', 'Guatemala', 'Guinea', 'Guyana', 'Haiti', 'Holy See', 'Honduras', 'Hungary', 'Iceland', 'India', 'Indonesia', 'Iran', 'Iraq', 'Ireland', 'Israel', 'Italy', 'Jamaica', 'Japan', 'Jordan', 'Kazakhstan', 'Kenya', 'South Korea', 'Kuwait', 'Kyrgyzstan', 'Latvia', 'Lebanon', 'Liberia', 'Liechtenstein', 'Lithuania', 'Luxembourg', 'Madagascar', 'Malaysia', 'Maldives', 'Malta', 'Mauritania', 'Mauritius', 'Mexico', 'Moldova', 'Monaco', 'Mongolia', 'Montenegro', 'Morocco', 'Namibia', 'Nepal', 'Netherlands', 'New Zealand', 'Nicaragua', 'Niger', 'Nigeria', 'North Macedonia', 'Norway', 'Oman', 'Pakistan', 'Panama', 'Papua New Guinea', 'Paraguay', 'Peru', 'Philippines', 'Poland', 'Portugal', 'Qatar', 'Romania', 'Russia', 'Rwanda', 'Saint Lucia', 'Saint Vincent and the Grenadines', 'San Marino', 'Saudi Arabia', 'Senegal', 'Serbia', 'Seychelles', 'Singapore', 'Slovakia', 'Slovenia', 'Somalia', 'South Africa', 'Spain', 'Sri Lanka', 'Sudan', 'Suriname', 'Sweden', 'Switzerland', 'Taiwan*', 'Tanzania', 'Thailand', 'Togo', 'Trinidad and Tobago', 'Tunisia', 'Turkey', 'Uganda', 'Ukraine', 'United Arab Emirates', 'United Kingdom', 'Uruguay', 'US', 'Uzbekistan', 'Venezuela', 'Vietnam', 'Zambia', 'Zimbabwe', 'Dominica', 'Grenada', 'Mozambique', 'Syria', 'Timor-Leste', 'Belize', 'Laos', 'Libya', 'West Bank and Gaza', 'Guinea-Bissau', 'Mali', 'Saint Kitts and Nevis', 'Kosovo', 'Burma', 'MS Zaandam', 'Botswana', 'Burundi', 'Sierra Leone', 'Malawi', 'South Sudan', 'Western Sahara', 'Sao Tome and Principe', 'Yemen', 'Comoros', 'Tajikistan', 'Lesotho']\n"
     ]
    }
   ],
   "source": [
    "# Countries affected\n",
    "countries = df['Country/Region'].unique().tolist()\n",
    "print(\"\\nTotal countries affected by virus: \",len(countries))\n",
    "print(countries)"
   ]
  },
  {
   "cell_type": "code",
   "execution_count": 48,
   "metadata": {},
   "outputs": [
    {
     "data": {
      "text/plain": [
       "Province/State     True\n",
       "Country/Region    False\n",
       "Lat               False\n",
       "Long              False\n",
       "Date              False\n",
       "Confirmed         False\n",
       "Deaths            False\n",
       "Recovered         False\n",
       "dtype: bool"
      ]
     },
     "execution_count": 48,
     "metadata": {},
     "output_type": "execute_result"
    }
   ],
   "source": [
    "# Check if the dataframe contains NaN values\n",
    "df.isna().any()"
   ]
  },
  {
   "cell_type": "code",
   "execution_count": 49,
   "metadata": {},
   "outputs": [
    {
     "data": {
      "text/html": [
       "<div>\n",
       "<style scoped>\n",
       "    .dataframe tbody tr th:only-of-type {\n",
       "        vertical-align: middle;\n",
       "    }\n",
       "\n",
       "    .dataframe tbody tr th {\n",
       "        vertical-align: top;\n",
       "    }\n",
       "\n",
       "    .dataframe thead th {\n",
       "        text-align: right;\n",
       "    }\n",
       "</style>\n",
       "<table border=\"1\" class=\"dataframe\">\n",
       "  <thead>\n",
       "    <tr style=\"text-align: right;\">\n",
       "      <th></th>\n",
       "      <th>Country</th>\n",
       "      <th>Confirmed</th>\n",
       "      <th>active</th>\n",
       "      <th>Deaths</th>\n",
       "    </tr>\n",
       "  </thead>\n",
       "  <tbody>\n",
       "    <tr>\n",
       "      <th>0</th>\n",
       "      <td>Afghanistan</td>\n",
       "      <td>11173</td>\n",
       "      <td>9857</td>\n",
       "      <td>219</td>\n",
       "    </tr>\n",
       "    <tr>\n",
       "      <th>1</th>\n",
       "      <td>Albania</td>\n",
       "      <td>1004</td>\n",
       "      <td>177</td>\n",
       "      <td>32</td>\n",
       "    </tr>\n",
       "    <tr>\n",
       "      <th>2</th>\n",
       "      <td>Algeria</td>\n",
       "      <td>8503</td>\n",
       "      <td>3147</td>\n",
       "      <td>609</td>\n",
       "    </tr>\n",
       "    <tr>\n",
       "      <th>3</th>\n",
       "      <td>Andorra</td>\n",
       "      <td>763</td>\n",
       "      <td>49</td>\n",
       "      <td>51</td>\n",
       "    </tr>\n",
       "    <tr>\n",
       "      <th>4</th>\n",
       "      <td>Angola</td>\n",
       "      <td>70</td>\n",
       "      <td>48</td>\n",
       "      <td>4</td>\n",
       "    </tr>\n",
       "  </tbody>\n",
       "</table>\n",
       "</div>"
      ],
      "text/plain": [
       "       Country  Confirmed  active  Deaths\n",
       "0  Afghanistan      11173    9857     219\n",
       "1      Albania       1004     177      32\n",
       "2      Algeria       8503    3147     609\n",
       "3      Andorra        763      49      51\n",
       "4       Angola         70      48       4"
      ]
     },
     "execution_count": 49,
     "metadata": {},
     "output_type": "execute_result"
    }
   ],
   "source": [
    "# Replace NaN values by 0\n",
    "df.fillna(0, inplace=True)\n",
    "# Remove columns\n",
    "df = df.drop(['Lat','Long','Province/State'], axis=1)\n",
    "# Rename the columns so that they make sense\n",
    "df.rename (columns = {'Country/Region':'Country'}, inplace = True)\n",
    "# Group datas by Country\n",
    "df['active'] = df['Confirmed'] - df['Deaths'] - df['Recovered']\n",
    "top = df[df['Date'] == df['Date'].max()]\n",
    "\n",
    "world = top.groupby('Country')['Confirmed','active','Deaths'].sum()\n",
    "world = top.groupby('Country')['Confirmed','active','Deaths'].sum().reset_index()\n",
    "world.head()"
   ]
  },
  {
   "cell_type": "code",
   "execution_count": 50,
   "metadata": {},
   "outputs": [
    {
     "data": {
      "application/vnd.plotly.v1+json": {
       "config": {
        "plotlyServerURL": "https://plot.ly"
       },
       "data": [
        {
         "coloraxis": "coloraxis",
         "geo": "geo",
         "hovertemplate": "<b>%{hovertext}</b><br><br>Country=%{location}<br>active=%{z}<extra></extra>",
         "hovertext": [
          "Afghanistan",
          "Albania",
          "Algeria",
          "Andorra",
          "Angola",
          "Antigua and Barbuda",
          "Argentina",
          "Armenia",
          "Australia",
          "Austria",
          "Azerbaijan",
          "Bahamas",
          "Bahrain",
          "Bangladesh",
          "Barbados",
          "Belarus",
          "Belgium",
          "Belize",
          "Benin",
          "Bhutan",
          "Bolivia",
          "Bosnia and Herzegovina",
          "Botswana",
          "Brazil",
          "Brunei",
          "Bulgaria",
          "Burkina Faso",
          "Burma",
          "Burundi",
          "Cabo Verde",
          "Cambodia",
          "Cameroon",
          "Canada",
          "Central African Republic",
          "Chad",
          "Chile",
          "China",
          "Colombia",
          "Comoros",
          "Congo (Brazzaville)",
          "Congo (Kinshasa)",
          "Costa Rica",
          "Cote d'Ivoire",
          "Croatia",
          "Cuba",
          "Cyprus",
          "Czechia",
          "Denmark",
          "Diamond Princess",
          "Djibouti",
          "Dominica",
          "Dominican Republic",
          "Ecuador",
          "Egypt",
          "El Salvador",
          "Equatorial Guinea",
          "Eritrea",
          "Estonia",
          "Eswatini",
          "Ethiopia",
          "Fiji",
          "Finland",
          "France",
          "Gabon",
          "Gambia",
          "Georgia",
          "Germany",
          "Ghana",
          "Greece",
          "Grenada",
          "Guatemala",
          "Guinea",
          "Guinea-Bissau",
          "Guyana",
          "Haiti",
          "Holy See",
          "Honduras",
          "Hungary",
          "Iceland",
          "India",
          "Indonesia",
          "Iran",
          "Iraq",
          "Ireland",
          "Israel",
          "Italy",
          "Jamaica",
          "Japan",
          "Jordan",
          "Kazakhstan",
          "Kenya",
          "Kosovo",
          "Kuwait",
          "Kyrgyzstan",
          "Laos",
          "Latvia",
          "Lebanon",
          "Lesotho",
          "Liberia",
          "Libya",
          "Liechtenstein",
          "Lithuania",
          "Luxembourg",
          "MS Zaandam",
          "Madagascar",
          "Malawi",
          "Malaysia",
          "Maldives",
          "Mali",
          "Malta",
          "Mauritania",
          "Mauritius",
          "Mexico",
          "Moldova",
          "Monaco",
          "Mongolia",
          "Montenegro",
          "Morocco",
          "Mozambique",
          "Namibia",
          "Nepal",
          "Netherlands",
          "New Zealand",
          "Nicaragua",
          "Niger",
          "Nigeria",
          "North Macedonia",
          "Norway",
          "Oman",
          "Pakistan",
          "Panama",
          "Papua New Guinea",
          "Paraguay",
          "Peru",
          "Philippines",
          "Poland",
          "Portugal",
          "Qatar",
          "Romania",
          "Russia",
          "Rwanda",
          "Saint Kitts and Nevis",
          "Saint Lucia",
          "Saint Vincent and the Grenadines",
          "San Marino",
          "Sao Tome and Principe",
          "Saudi Arabia",
          "Senegal",
          "Serbia",
          "Seychelles",
          "Sierra Leone",
          "Singapore",
          "Slovakia",
          "Slovenia",
          "Somalia",
          "South Africa",
          "South Korea",
          "South Sudan",
          "Spain",
          "Sri Lanka",
          "Sudan",
          "Suriname",
          "Sweden",
          "Switzerland",
          "Syria",
          "Taiwan*",
          "Tajikistan",
          "Tanzania",
          "Thailand",
          "Timor-Leste",
          "Togo",
          "Trinidad and Tobago",
          "Tunisia",
          "Turkey",
          "US",
          "Uganda",
          "Ukraine",
          "United Arab Emirates",
          "United Kingdom",
          "Uruguay",
          "Uzbekistan",
          "Venezuela",
          "Vietnam",
          "West Bank and Gaza",
          "Western Sahara",
          "Yemen",
          "Zambia",
          "Zimbabwe"
         ],
         "locationmode": "country names",
         "locations": [
          "Afghanistan",
          "Albania",
          "Algeria",
          "Andorra",
          "Angola",
          "Antigua and Barbuda",
          "Argentina",
          "Armenia",
          "Australia",
          "Austria",
          "Azerbaijan",
          "Bahamas",
          "Bahrain",
          "Bangladesh",
          "Barbados",
          "Belarus",
          "Belgium",
          "Belize",
          "Benin",
          "Bhutan",
          "Bolivia",
          "Bosnia and Herzegovina",
          "Botswana",
          "Brazil",
          "Brunei",
          "Bulgaria",
          "Burkina Faso",
          "Burma",
          "Burundi",
          "Cabo Verde",
          "Cambodia",
          "Cameroon",
          "Canada",
          "Central African Republic",
          "Chad",
          "Chile",
          "China",
          "Colombia",
          "Comoros",
          "Congo (Brazzaville)",
          "Congo (Kinshasa)",
          "Costa Rica",
          "Cote d'Ivoire",
          "Croatia",
          "Cuba",
          "Cyprus",
          "Czechia",
          "Denmark",
          "Diamond Princess",
          "Djibouti",
          "Dominica",
          "Dominican Republic",
          "Ecuador",
          "Egypt",
          "El Salvador",
          "Equatorial Guinea",
          "Eritrea",
          "Estonia",
          "Eswatini",
          "Ethiopia",
          "Fiji",
          "Finland",
          "France",
          "Gabon",
          "Gambia",
          "Georgia",
          "Germany",
          "Ghana",
          "Greece",
          "Grenada",
          "Guatemala",
          "Guinea",
          "Guinea-Bissau",
          "Guyana",
          "Haiti",
          "Holy See",
          "Honduras",
          "Hungary",
          "Iceland",
          "India",
          "Indonesia",
          "Iran",
          "Iraq",
          "Ireland",
          "Israel",
          "Italy",
          "Jamaica",
          "Japan",
          "Jordan",
          "Kazakhstan",
          "Kenya",
          "Kosovo",
          "Kuwait",
          "Kyrgyzstan",
          "Laos",
          "Latvia",
          "Lebanon",
          "Lesotho",
          "Liberia",
          "Libya",
          "Liechtenstein",
          "Lithuania",
          "Luxembourg",
          "MS Zaandam",
          "Madagascar",
          "Malawi",
          "Malaysia",
          "Maldives",
          "Mali",
          "Malta",
          "Mauritania",
          "Mauritius",
          "Mexico",
          "Moldova",
          "Monaco",
          "Mongolia",
          "Montenegro",
          "Morocco",
          "Mozambique",
          "Namibia",
          "Nepal",
          "Netherlands",
          "New Zealand",
          "Nicaragua",
          "Niger",
          "Nigeria",
          "North Macedonia",
          "Norway",
          "Oman",
          "Pakistan",
          "Panama",
          "Papua New Guinea",
          "Paraguay",
          "Peru",
          "Philippines",
          "Poland",
          "Portugal",
          "Qatar",
          "Romania",
          "Russia",
          "Rwanda",
          "Saint Kitts and Nevis",
          "Saint Lucia",
          "Saint Vincent and the Grenadines",
          "San Marino",
          "Sao Tome and Principe",
          "Saudi Arabia",
          "Senegal",
          "Serbia",
          "Seychelles",
          "Sierra Leone",
          "Singapore",
          "Slovakia",
          "Slovenia",
          "Somalia",
          "South Africa",
          "South Korea",
          "South Sudan",
          "Spain",
          "Sri Lanka",
          "Sudan",
          "Suriname",
          "Sweden",
          "Switzerland",
          "Syria",
          "Taiwan*",
          "Tajikistan",
          "Tanzania",
          "Thailand",
          "Timor-Leste",
          "Togo",
          "Trinidad and Tobago",
          "Tunisia",
          "Turkey",
          "US",
          "Uganda",
          "Ukraine",
          "United Arab Emirates",
          "United Kingdom",
          "Uruguay",
          "Uzbekistan",
          "Venezuela",
          "Vietnam",
          "West Bank and Gaza",
          "Western Sahara",
          "Yemen",
          "Zambia",
          "Zimbabwe"
         ],
         "name": "",
         "type": "choropleth",
         "z": [
          9857,
          177,
          3147,
          49,
          48,
          3,
          8162,
          3881,
          472,
          760,
          1479,
          43,
          4404,
          27750,
          14,
          22491,
          32733,
          0,
          104,
          21,
          5752,
          564,
          15,
          197592,
          3,
          1441,
          108,
          74,
          21,
          232,
          2,
          4725,
          80464,
          629,
          382,
          43934,
          3133,
          15966,
          65,
          324,
          1893,
          313,
          1136,
          109,
          161,
          326,
          8685,
          861,
          48,
          1375,
          0,
          6328,
          16149,
          12284,
          1176,
          866,
          0,
          221,
          96,
          491,
          3,
          1191,
          89290,
          1559,
          7,
          193,
          11092,
          4706,
          1336,
          23,
          3427,
          1582,
          1129,
          64,
          909,
          10,
          3534,
          1554,
          3,
          80072,
          15717,
          22560,
          1658,
          2032,
          2146,
          55300,
          309,
          2139,
          223,
          4419,
          832,
          217,
          15181,
          425,
          19,
          315,
          405,
          2,
          98,
          32,
          26,
          434,
          102,
          7,
          393,
          64,
          1323,
          1236,
          388,
          120,
          238,
          2,
          14020,
          3084,
          4,
          108,
          0,
          2558,
          208,
          7,
          566,
          39624,
          22,
          63,
          103,
          5524,
          447,
          402,
          5800,
          37700,
          4594,
          0,
          510,
          69401,
          10123,
          11348,
          11636,
          35076,
          5448,
          230996,
          98,
          0,
          0,
          4,
          354,
          284,
          28728,
          1580,
          5034,
          0,
          400,
          16199,
          176,
          16,
          1388,
          11217,
          681,
          798,
          58190,
          477,
          3303,
          1,
          24843,
          633,
          102,
          19,
          3054,
          305,
          57,
          24,
          212,
          0,
          84,
          33430,
          1184925,
          153,
          13388,
          14402,
          224390,
          136,
          569,
          865,
          54,
          63,
          3,
          189,
          577,
          27
         ]
        }
       ],
       "layout": {
        "coloraxis": {
         "cmax": 1000,
         "cmin": 1,
         "colorbar": {
          "title": {
           "text": "active"
          }
         },
         "colorscale": [
          [
           0,
           "rgb(253, 224, 197)"
          ],
          [
           0.16666666666666666,
           "rgb(250, 203, 166)"
          ],
          [
           0.3333333333333333,
           "rgb(248, 181, 139)"
          ],
          [
           0.5,
           "rgb(245, 158, 114)"
          ],
          [
           0.6666666666666666,
           "rgb(242, 133, 93)"
          ],
          [
           0.8333333333333334,
           "rgb(239, 106, 76)"
          ],
          [
           1,
           "rgb(235, 74, 64)"
          ]
         ]
        },
        "geo": {
         "center": {},
         "domain": {
          "x": [
           0,
           1
          ],
          "y": [
           0,
           1
          ]
         }
        },
        "legend": {
         "tracegroupgap": 0
        },
        "template": {
         "data": {
          "bar": [
           {
            "error_x": {
             "color": "#2a3f5f"
            },
            "error_y": {
             "color": "#2a3f5f"
            },
            "marker": {
             "line": {
              "color": "#E5ECF6",
              "width": 0.5
             }
            },
            "type": "bar"
           }
          ],
          "barpolar": [
           {
            "marker": {
             "line": {
              "color": "#E5ECF6",
              "width": 0.5
             }
            },
            "type": "barpolar"
           }
          ],
          "carpet": [
           {
            "aaxis": {
             "endlinecolor": "#2a3f5f",
             "gridcolor": "white",
             "linecolor": "white",
             "minorgridcolor": "white",
             "startlinecolor": "#2a3f5f"
            },
            "baxis": {
             "endlinecolor": "#2a3f5f",
             "gridcolor": "white",
             "linecolor": "white",
             "minorgridcolor": "white",
             "startlinecolor": "#2a3f5f"
            },
            "type": "carpet"
           }
          ],
          "choropleth": [
           {
            "colorbar": {
             "outlinewidth": 0,
             "ticks": ""
            },
            "type": "choropleth"
           }
          ],
          "contour": [
           {
            "colorbar": {
             "outlinewidth": 0,
             "ticks": ""
            },
            "colorscale": [
             [
              0,
              "#0d0887"
             ],
             [
              0.1111111111111111,
              "#46039f"
             ],
             [
              0.2222222222222222,
              "#7201a8"
             ],
             [
              0.3333333333333333,
              "#9c179e"
             ],
             [
              0.4444444444444444,
              "#bd3786"
             ],
             [
              0.5555555555555556,
              "#d8576b"
             ],
             [
              0.6666666666666666,
              "#ed7953"
             ],
             [
              0.7777777777777778,
              "#fb9f3a"
             ],
             [
              0.8888888888888888,
              "#fdca26"
             ],
             [
              1,
              "#f0f921"
             ]
            ],
            "type": "contour"
           }
          ],
          "contourcarpet": [
           {
            "colorbar": {
             "outlinewidth": 0,
             "ticks": ""
            },
            "type": "contourcarpet"
           }
          ],
          "heatmap": [
           {
            "colorbar": {
             "outlinewidth": 0,
             "ticks": ""
            },
            "colorscale": [
             [
              0,
              "#0d0887"
             ],
             [
              0.1111111111111111,
              "#46039f"
             ],
             [
              0.2222222222222222,
              "#7201a8"
             ],
             [
              0.3333333333333333,
              "#9c179e"
             ],
             [
              0.4444444444444444,
              "#bd3786"
             ],
             [
              0.5555555555555556,
              "#d8576b"
             ],
             [
              0.6666666666666666,
              "#ed7953"
             ],
             [
              0.7777777777777778,
              "#fb9f3a"
             ],
             [
              0.8888888888888888,
              "#fdca26"
             ],
             [
              1,
              "#f0f921"
             ]
            ],
            "type": "heatmap"
           }
          ],
          "heatmapgl": [
           {
            "colorbar": {
             "outlinewidth": 0,
             "ticks": ""
            },
            "colorscale": [
             [
              0,
              "#0d0887"
             ],
             [
              0.1111111111111111,
              "#46039f"
             ],
             [
              0.2222222222222222,
              "#7201a8"
             ],
             [
              0.3333333333333333,
              "#9c179e"
             ],
             [
              0.4444444444444444,
              "#bd3786"
             ],
             [
              0.5555555555555556,
              "#d8576b"
             ],
             [
              0.6666666666666666,
              "#ed7953"
             ],
             [
              0.7777777777777778,
              "#fb9f3a"
             ],
             [
              0.8888888888888888,
              "#fdca26"
             ],
             [
              1,
              "#f0f921"
             ]
            ],
            "type": "heatmapgl"
           }
          ],
          "histogram": [
           {
            "marker": {
             "colorbar": {
              "outlinewidth": 0,
              "ticks": ""
             }
            },
            "type": "histogram"
           }
          ],
          "histogram2d": [
           {
            "colorbar": {
             "outlinewidth": 0,
             "ticks": ""
            },
            "colorscale": [
             [
              0,
              "#0d0887"
             ],
             [
              0.1111111111111111,
              "#46039f"
             ],
             [
              0.2222222222222222,
              "#7201a8"
             ],
             [
              0.3333333333333333,
              "#9c179e"
             ],
             [
              0.4444444444444444,
              "#bd3786"
             ],
             [
              0.5555555555555556,
              "#d8576b"
             ],
             [
              0.6666666666666666,
              "#ed7953"
             ],
             [
              0.7777777777777778,
              "#fb9f3a"
             ],
             [
              0.8888888888888888,
              "#fdca26"
             ],
             [
              1,
              "#f0f921"
             ]
            ],
            "type": "histogram2d"
           }
          ],
          "histogram2dcontour": [
           {
            "colorbar": {
             "outlinewidth": 0,
             "ticks": ""
            },
            "colorscale": [
             [
              0,
              "#0d0887"
             ],
             [
              0.1111111111111111,
              "#46039f"
             ],
             [
              0.2222222222222222,
              "#7201a8"
             ],
             [
              0.3333333333333333,
              "#9c179e"
             ],
             [
              0.4444444444444444,
              "#bd3786"
             ],
             [
              0.5555555555555556,
              "#d8576b"
             ],
             [
              0.6666666666666666,
              "#ed7953"
             ],
             [
              0.7777777777777778,
              "#fb9f3a"
             ],
             [
              0.8888888888888888,
              "#fdca26"
             ],
             [
              1,
              "#f0f921"
             ]
            ],
            "type": "histogram2dcontour"
           }
          ],
          "mesh3d": [
           {
            "colorbar": {
             "outlinewidth": 0,
             "ticks": ""
            },
            "type": "mesh3d"
           }
          ],
          "parcoords": [
           {
            "line": {
             "colorbar": {
              "outlinewidth": 0,
              "ticks": ""
             }
            },
            "type": "parcoords"
           }
          ],
          "pie": [
           {
            "automargin": true,
            "type": "pie"
           }
          ],
          "scatter": [
           {
            "marker": {
             "colorbar": {
              "outlinewidth": 0,
              "ticks": ""
             }
            },
            "type": "scatter"
           }
          ],
          "scatter3d": [
           {
            "line": {
             "colorbar": {
              "outlinewidth": 0,
              "ticks": ""
             }
            },
            "marker": {
             "colorbar": {
              "outlinewidth": 0,
              "ticks": ""
             }
            },
            "type": "scatter3d"
           }
          ],
          "scattercarpet": [
           {
            "marker": {
             "colorbar": {
              "outlinewidth": 0,
              "ticks": ""
             }
            },
            "type": "scattercarpet"
           }
          ],
          "scattergeo": [
           {
            "marker": {
             "colorbar": {
              "outlinewidth": 0,
              "ticks": ""
             }
            },
            "type": "scattergeo"
           }
          ],
          "scattergl": [
           {
            "marker": {
             "colorbar": {
              "outlinewidth": 0,
              "ticks": ""
             }
            },
            "type": "scattergl"
           }
          ],
          "scattermapbox": [
           {
            "marker": {
             "colorbar": {
              "outlinewidth": 0,
              "ticks": ""
             }
            },
            "type": "scattermapbox"
           }
          ],
          "scatterpolar": [
           {
            "marker": {
             "colorbar": {
              "outlinewidth": 0,
              "ticks": ""
             }
            },
            "type": "scatterpolar"
           }
          ],
          "scatterpolargl": [
           {
            "marker": {
             "colorbar": {
              "outlinewidth": 0,
              "ticks": ""
             }
            },
            "type": "scatterpolargl"
           }
          ],
          "scatterternary": [
           {
            "marker": {
             "colorbar": {
              "outlinewidth": 0,
              "ticks": ""
             }
            },
            "type": "scatterternary"
           }
          ],
          "surface": [
           {
            "colorbar": {
             "outlinewidth": 0,
             "ticks": ""
            },
            "colorscale": [
             [
              0,
              "#0d0887"
             ],
             [
              0.1111111111111111,
              "#46039f"
             ],
             [
              0.2222222222222222,
              "#7201a8"
             ],
             [
              0.3333333333333333,
              "#9c179e"
             ],
             [
              0.4444444444444444,
              "#bd3786"
             ],
             [
              0.5555555555555556,
              "#d8576b"
             ],
             [
              0.6666666666666666,
              "#ed7953"
             ],
             [
              0.7777777777777778,
              "#fb9f3a"
             ],
             [
              0.8888888888888888,
              "#fdca26"
             ],
             [
              1,
              "#f0f921"
             ]
            ],
            "type": "surface"
           }
          ],
          "table": [
           {
            "cells": {
             "fill": {
              "color": "#EBF0F8"
             },
             "line": {
              "color": "white"
             }
            },
            "header": {
             "fill": {
              "color": "#C8D4E3"
             },
             "line": {
              "color": "white"
             }
            },
            "type": "table"
           }
          ]
         },
         "layout": {
          "annotationdefaults": {
           "arrowcolor": "#2a3f5f",
           "arrowhead": 0,
           "arrowwidth": 1
          },
          "coloraxis": {
           "colorbar": {
            "outlinewidth": 0,
            "ticks": ""
           }
          },
          "colorscale": {
           "diverging": [
            [
             0,
             "#8e0152"
            ],
            [
             0.1,
             "#c51b7d"
            ],
            [
             0.2,
             "#de77ae"
            ],
            [
             0.3,
             "#f1b6da"
            ],
            [
             0.4,
             "#fde0ef"
            ],
            [
             0.5,
             "#f7f7f7"
            ],
            [
             0.6,
             "#e6f5d0"
            ],
            [
             0.7,
             "#b8e186"
            ],
            [
             0.8,
             "#7fbc41"
            ],
            [
             0.9,
             "#4d9221"
            ],
            [
             1,
             "#276419"
            ]
           ],
           "sequential": [
            [
             0,
             "#0d0887"
            ],
            [
             0.1111111111111111,
             "#46039f"
            ],
            [
             0.2222222222222222,
             "#7201a8"
            ],
            [
             0.3333333333333333,
             "#9c179e"
            ],
            [
             0.4444444444444444,
             "#bd3786"
            ],
            [
             0.5555555555555556,
             "#d8576b"
            ],
            [
             0.6666666666666666,
             "#ed7953"
            ],
            [
             0.7777777777777778,
             "#fb9f3a"
            ],
            [
             0.8888888888888888,
             "#fdca26"
            ],
            [
             1,
             "#f0f921"
            ]
           ],
           "sequentialminus": [
            [
             0,
             "#0d0887"
            ],
            [
             0.1111111111111111,
             "#46039f"
            ],
            [
             0.2222222222222222,
             "#7201a8"
            ],
            [
             0.3333333333333333,
             "#9c179e"
            ],
            [
             0.4444444444444444,
             "#bd3786"
            ],
            [
             0.5555555555555556,
             "#d8576b"
            ],
            [
             0.6666666666666666,
             "#ed7953"
            ],
            [
             0.7777777777777778,
             "#fb9f3a"
            ],
            [
             0.8888888888888888,
             "#fdca26"
            ],
            [
             1,
             "#f0f921"
            ]
           ]
          },
          "colorway": [
           "#636efa",
           "#EF553B",
           "#00cc96",
           "#ab63fa",
           "#FFA15A",
           "#19d3f3",
           "#FF6692",
           "#B6E880",
           "#FF97FF",
           "#FECB52"
          ],
          "font": {
           "color": "#2a3f5f"
          },
          "geo": {
           "bgcolor": "white",
           "lakecolor": "white",
           "landcolor": "#E5ECF6",
           "showlakes": true,
           "showland": true,
           "subunitcolor": "white"
          },
          "hoverlabel": {
           "align": "left"
          },
          "hovermode": "closest",
          "mapbox": {
           "style": "light"
          },
          "paper_bgcolor": "white",
          "plot_bgcolor": "#E5ECF6",
          "polar": {
           "angularaxis": {
            "gridcolor": "white",
            "linecolor": "white",
            "ticks": ""
           },
           "bgcolor": "#E5ECF6",
           "radialaxis": {
            "gridcolor": "white",
            "linecolor": "white",
            "ticks": ""
           }
          },
          "scene": {
           "xaxis": {
            "backgroundcolor": "#E5ECF6",
            "gridcolor": "white",
            "gridwidth": 2,
            "linecolor": "white",
            "showbackground": true,
            "ticks": "",
            "zerolinecolor": "white"
           },
           "yaxis": {
            "backgroundcolor": "#E5ECF6",
            "gridcolor": "white",
            "gridwidth": 2,
            "linecolor": "white",
            "showbackground": true,
            "ticks": "",
            "zerolinecolor": "white"
           },
           "zaxis": {
            "backgroundcolor": "#E5ECF6",
            "gridcolor": "white",
            "gridwidth": 2,
            "linecolor": "white",
            "showbackground": true,
            "ticks": "",
            "zerolinecolor": "white"
           }
          },
          "shapedefaults": {
           "line": {
            "color": "#2a3f5f"
           }
          },
          "ternary": {
           "aaxis": {
            "gridcolor": "white",
            "linecolor": "white",
            "ticks": ""
           },
           "baxis": {
            "gridcolor": "white",
            "linecolor": "white",
            "ticks": ""
           },
           "bgcolor": "#E5ECF6",
           "caxis": {
            "gridcolor": "white",
            "linecolor": "white",
            "ticks": ""
           }
          },
          "title": {
           "x": 0.05
          },
          "xaxis": {
           "automargin": true,
           "gridcolor": "white",
           "linecolor": "white",
           "ticks": "",
           "title": {
            "standoff": 15
           },
           "zerolinecolor": "white",
           "zerolinewidth": 2
          },
          "yaxis": {
           "automargin": true,
           "gridcolor": "white",
           "linecolor": "white",
           "ticks": "",
           "title": {
            "standoff": 15
           },
           "zerolinecolor": "white",
           "zerolinewidth": 2
          }
         }
        },
        "title": {
         "text": "Active Cases in World"
        }
       }
      },
      "text/html": [
       "<div>\n",
       "        \n",
       "        \n",
       "            <div id=\"4e16b7cc-ad23-4d8a-b105-83311042ccc5\" class=\"plotly-graph-div\" style=\"height:525px; width:100%;\"></div>\n",
       "            <script type=\"text/javascript\">\n",
       "                require([\"plotly\"], function(Plotly) {\n",
       "                    window.PLOTLYENV=window.PLOTLYENV || {};\n",
       "                    \n",
       "                if (document.getElementById(\"4e16b7cc-ad23-4d8a-b105-83311042ccc5\")) {\n",
       "                    Plotly.newPlot(\n",
       "                        '4e16b7cc-ad23-4d8a-b105-83311042ccc5',\n",
       "                        [{\"coloraxis\": \"coloraxis\", \"geo\": \"geo\", \"hovertemplate\": \"<b>%{hovertext}</b><br><br>Country=%{location}<br>active=%{z}<extra></extra>\", \"hovertext\": [\"Afghanistan\", \"Albania\", \"Algeria\", \"Andorra\", \"Angola\", \"Antigua and Barbuda\", \"Argentina\", \"Armenia\", \"Australia\", \"Austria\", \"Azerbaijan\", \"Bahamas\", \"Bahrain\", \"Bangladesh\", \"Barbados\", \"Belarus\", \"Belgium\", \"Belize\", \"Benin\", \"Bhutan\", \"Bolivia\", \"Bosnia and Herzegovina\", \"Botswana\", \"Brazil\", \"Brunei\", \"Bulgaria\", \"Burkina Faso\", \"Burma\", \"Burundi\", \"Cabo Verde\", \"Cambodia\", \"Cameroon\", \"Canada\", \"Central African Republic\", \"Chad\", \"Chile\", \"China\", \"Colombia\", \"Comoros\", \"Congo (Brazzaville)\", \"Congo (Kinshasa)\", \"Costa Rica\", \"Cote d'Ivoire\", \"Croatia\", \"Cuba\", \"Cyprus\", \"Czechia\", \"Denmark\", \"Diamond Princess\", \"Djibouti\", \"Dominica\", \"Dominican Republic\", \"Ecuador\", \"Egypt\", \"El Salvador\", \"Equatorial Guinea\", \"Eritrea\", \"Estonia\", \"Eswatini\", \"Ethiopia\", \"Fiji\", \"Finland\", \"France\", \"Gabon\", \"Gambia\", \"Georgia\", \"Germany\", \"Ghana\", \"Greece\", \"Grenada\", \"Guatemala\", \"Guinea\", \"Guinea-Bissau\", \"Guyana\", \"Haiti\", \"Holy See\", \"Honduras\", \"Hungary\", \"Iceland\", \"India\", \"Indonesia\", \"Iran\", \"Iraq\", \"Ireland\", \"Israel\", \"Italy\", \"Jamaica\", \"Japan\", \"Jordan\", \"Kazakhstan\", \"Kenya\", \"Kosovo\", \"Kuwait\", \"Kyrgyzstan\", \"Laos\", \"Latvia\", \"Lebanon\", \"Lesotho\", \"Liberia\", \"Libya\", \"Liechtenstein\", \"Lithuania\", \"Luxembourg\", \"MS Zaandam\", \"Madagascar\", \"Malawi\", \"Malaysia\", \"Maldives\", \"Mali\", \"Malta\", \"Mauritania\", \"Mauritius\", \"Mexico\", \"Moldova\", \"Monaco\", \"Mongolia\", \"Montenegro\", \"Morocco\", \"Mozambique\", \"Namibia\", \"Nepal\", \"Netherlands\", \"New Zealand\", \"Nicaragua\", \"Niger\", \"Nigeria\", \"North Macedonia\", \"Norway\", \"Oman\", \"Pakistan\", \"Panama\", \"Papua New Guinea\", \"Paraguay\", \"Peru\", \"Philippines\", \"Poland\", \"Portugal\", \"Qatar\", \"Romania\", \"Russia\", \"Rwanda\", \"Saint Kitts and Nevis\", \"Saint Lucia\", \"Saint Vincent and the Grenadines\", \"San Marino\", \"Sao Tome and Principe\", \"Saudi Arabia\", \"Senegal\", \"Serbia\", \"Seychelles\", \"Sierra Leone\", \"Singapore\", \"Slovakia\", \"Slovenia\", \"Somalia\", \"South Africa\", \"South Korea\", \"South Sudan\", \"Spain\", \"Sri Lanka\", \"Sudan\", \"Suriname\", \"Sweden\", \"Switzerland\", \"Syria\", \"Taiwan*\", \"Tajikistan\", \"Tanzania\", \"Thailand\", \"Timor-Leste\", \"Togo\", \"Trinidad and Tobago\", \"Tunisia\", \"Turkey\", \"US\", \"Uganda\", \"Ukraine\", \"United Arab Emirates\", \"United Kingdom\", \"Uruguay\", \"Uzbekistan\", \"Venezuela\", \"Vietnam\", \"West Bank and Gaza\", \"Western Sahara\", \"Yemen\", \"Zambia\", \"Zimbabwe\"], \"locationmode\": \"country names\", \"locations\": [\"Afghanistan\", \"Albania\", \"Algeria\", \"Andorra\", \"Angola\", \"Antigua and Barbuda\", \"Argentina\", \"Armenia\", \"Australia\", \"Austria\", \"Azerbaijan\", \"Bahamas\", \"Bahrain\", \"Bangladesh\", \"Barbados\", \"Belarus\", \"Belgium\", \"Belize\", \"Benin\", \"Bhutan\", \"Bolivia\", \"Bosnia and Herzegovina\", \"Botswana\", \"Brazil\", \"Brunei\", \"Bulgaria\", \"Burkina Faso\", \"Burma\", \"Burundi\", \"Cabo Verde\", \"Cambodia\", \"Cameroon\", \"Canada\", \"Central African Republic\", \"Chad\", \"Chile\", \"China\", \"Colombia\", \"Comoros\", \"Congo (Brazzaville)\", \"Congo (Kinshasa)\", \"Costa Rica\", \"Cote d'Ivoire\", \"Croatia\", \"Cuba\", \"Cyprus\", \"Czechia\", \"Denmark\", \"Diamond Princess\", \"Djibouti\", \"Dominica\", \"Dominican Republic\", \"Ecuador\", \"Egypt\", \"El Salvador\", \"Equatorial Guinea\", \"Eritrea\", \"Estonia\", \"Eswatini\", \"Ethiopia\", \"Fiji\", \"Finland\", \"France\", \"Gabon\", \"Gambia\", \"Georgia\", \"Germany\", \"Ghana\", \"Greece\", \"Grenada\", \"Guatemala\", \"Guinea\", \"Guinea-Bissau\", \"Guyana\", \"Haiti\", \"Holy See\", \"Honduras\", \"Hungary\", \"Iceland\", \"India\", \"Indonesia\", \"Iran\", \"Iraq\", \"Ireland\", \"Israel\", \"Italy\", \"Jamaica\", \"Japan\", \"Jordan\", \"Kazakhstan\", \"Kenya\", \"Kosovo\", \"Kuwait\", \"Kyrgyzstan\", \"Laos\", \"Latvia\", \"Lebanon\", \"Lesotho\", \"Liberia\", \"Libya\", \"Liechtenstein\", \"Lithuania\", \"Luxembourg\", \"MS Zaandam\", \"Madagascar\", \"Malawi\", \"Malaysia\", \"Maldives\", \"Mali\", \"Malta\", \"Mauritania\", \"Mauritius\", \"Mexico\", \"Moldova\", \"Monaco\", \"Mongolia\", \"Montenegro\", \"Morocco\", \"Mozambique\", \"Namibia\", \"Nepal\", \"Netherlands\", \"New Zealand\", \"Nicaragua\", \"Niger\", \"Nigeria\", \"North Macedonia\", \"Norway\", \"Oman\", \"Pakistan\", \"Panama\", \"Papua New Guinea\", \"Paraguay\", \"Peru\", \"Philippines\", \"Poland\", \"Portugal\", \"Qatar\", \"Romania\", \"Russia\", \"Rwanda\", \"Saint Kitts and Nevis\", \"Saint Lucia\", \"Saint Vincent and the Grenadines\", \"San Marino\", \"Sao Tome and Principe\", \"Saudi Arabia\", \"Senegal\", \"Serbia\", \"Seychelles\", \"Sierra Leone\", \"Singapore\", \"Slovakia\", \"Slovenia\", \"Somalia\", \"South Africa\", \"South Korea\", \"South Sudan\", \"Spain\", \"Sri Lanka\", \"Sudan\", \"Suriname\", \"Sweden\", \"Switzerland\", \"Syria\", \"Taiwan*\", \"Tajikistan\", \"Tanzania\", \"Thailand\", \"Timor-Leste\", \"Togo\", \"Trinidad and Tobago\", \"Tunisia\", \"Turkey\", \"US\", \"Uganda\", \"Ukraine\", \"United Arab Emirates\", \"United Kingdom\", \"Uruguay\", \"Uzbekistan\", \"Venezuela\", \"Vietnam\", \"West Bank and Gaza\", \"Western Sahara\", \"Yemen\", \"Zambia\", \"Zimbabwe\"], \"name\": \"\", \"type\": \"choropleth\", \"z\": [9857, 177, 3147, 49, 48, 3, 8162, 3881, 472, 760, 1479, 43, 4404, 27750, 14, 22491, 32733, 0, 104, 21, 5752, 564, 15, 197592, 3, 1441, 108, 74, 21, 232, 2, 4725, 80464, 629, 382, 43934, 3133, 15966, 65, 324, 1893, 313, 1136, 109, 161, 326, 8685, 861, 48, 1375, 0, 6328, 16149, 12284, 1176, 866, 0, 221, 96, 491, 3, 1191, 89290, 1559, 7, 193, 11092, 4706, 1336, 23, 3427, 1582, 1129, 64, 909, 10, 3534, 1554, 3, 80072, 15717, 22560, 1658, 2032, 2146, 55300, 309, 2139, 223, 4419, 832, 217, 15181, 425, 19, 315, 405, 2, 98, 32, 26, 434, 102, 7, 393, 64, 1323, 1236, 388, 120, 238, 2, 14020, 3084, 4, 108, 0, 2558, 208, 7, 566, 39624, 22, 63, 103, 5524, 447, 402, 5800, 37700, 4594, 0, 510, 69401, 10123, 11348, 11636, 35076, 5448, 230996, 98, 0, 0, 4, 354, 284, 28728, 1580, 5034, 0, 400, 16199, 176, 16, 1388, 11217, 681, 798, 58190, 477, 3303, 1, 24843, 633, 102, 19, 3054, 305, 57, 24, 212, 0, 84, 33430, 1184925, 153, 13388, 14402, 224390, 136, 569, 865, 54, 63, 3, 189, 577, 27]}],\n",
       "                        {\"coloraxis\": {\"cmax\": 1000, \"cmin\": 1, \"colorbar\": {\"title\": {\"text\": \"active\"}}, \"colorscale\": [[0.0, \"rgb(253, 224, 197)\"], [0.16666666666666666, \"rgb(250, 203, 166)\"], [0.3333333333333333, \"rgb(248, 181, 139)\"], [0.5, \"rgb(245, 158, 114)\"], [0.6666666666666666, \"rgb(242, 133, 93)\"], [0.8333333333333334, \"rgb(239, 106, 76)\"], [1.0, \"rgb(235, 74, 64)\"]]}, \"geo\": {\"center\": {}, \"domain\": {\"x\": [0.0, 1.0], \"y\": [0.0, 1.0]}}, \"legend\": {\"tracegroupgap\": 0}, \"template\": {\"data\": {\"bar\": [{\"error_x\": {\"color\": \"#2a3f5f\"}, \"error_y\": {\"color\": \"#2a3f5f\"}, \"marker\": {\"line\": {\"color\": \"#E5ECF6\", \"width\": 0.5}}, \"type\": \"bar\"}], \"barpolar\": [{\"marker\": {\"line\": {\"color\": \"#E5ECF6\", \"width\": 0.5}}, \"type\": \"barpolar\"}], \"carpet\": [{\"aaxis\": {\"endlinecolor\": \"#2a3f5f\", \"gridcolor\": \"white\", \"linecolor\": \"white\", \"minorgridcolor\": \"white\", \"startlinecolor\": \"#2a3f5f\"}, \"baxis\": {\"endlinecolor\": \"#2a3f5f\", \"gridcolor\": \"white\", \"linecolor\": \"white\", \"minorgridcolor\": \"white\", \"startlinecolor\": \"#2a3f5f\"}, \"type\": \"carpet\"}], \"choropleth\": [{\"colorbar\": {\"outlinewidth\": 0, \"ticks\": \"\"}, \"type\": \"choropleth\"}], \"contour\": [{\"colorbar\": {\"outlinewidth\": 0, \"ticks\": \"\"}, \"colorscale\": [[0.0, \"#0d0887\"], [0.1111111111111111, \"#46039f\"], [0.2222222222222222, \"#7201a8\"], [0.3333333333333333, \"#9c179e\"], [0.4444444444444444, \"#bd3786\"], [0.5555555555555556, \"#d8576b\"], [0.6666666666666666, \"#ed7953\"], [0.7777777777777778, \"#fb9f3a\"], [0.8888888888888888, \"#fdca26\"], [1.0, \"#f0f921\"]], \"type\": \"contour\"}], \"contourcarpet\": [{\"colorbar\": {\"outlinewidth\": 0, \"ticks\": \"\"}, \"type\": \"contourcarpet\"}], \"heatmap\": [{\"colorbar\": {\"outlinewidth\": 0, \"ticks\": \"\"}, \"colorscale\": [[0.0, \"#0d0887\"], [0.1111111111111111, \"#46039f\"], [0.2222222222222222, \"#7201a8\"], [0.3333333333333333, \"#9c179e\"], [0.4444444444444444, \"#bd3786\"], [0.5555555555555556, \"#d8576b\"], [0.6666666666666666, \"#ed7953\"], [0.7777777777777778, \"#fb9f3a\"], [0.8888888888888888, \"#fdca26\"], [1.0, \"#f0f921\"]], \"type\": \"heatmap\"}], \"heatmapgl\": [{\"colorbar\": {\"outlinewidth\": 0, \"ticks\": \"\"}, \"colorscale\": [[0.0, \"#0d0887\"], [0.1111111111111111, \"#46039f\"], [0.2222222222222222, \"#7201a8\"], [0.3333333333333333, \"#9c179e\"], [0.4444444444444444, \"#bd3786\"], [0.5555555555555556, \"#d8576b\"], [0.6666666666666666, \"#ed7953\"], [0.7777777777777778, \"#fb9f3a\"], [0.8888888888888888, \"#fdca26\"], [1.0, \"#f0f921\"]], \"type\": \"heatmapgl\"}], \"histogram\": [{\"marker\": {\"colorbar\": {\"outlinewidth\": 0, \"ticks\": \"\"}}, \"type\": \"histogram\"}], \"histogram2d\": [{\"colorbar\": {\"outlinewidth\": 0, \"ticks\": \"\"}, \"colorscale\": [[0.0, \"#0d0887\"], [0.1111111111111111, \"#46039f\"], [0.2222222222222222, \"#7201a8\"], [0.3333333333333333, \"#9c179e\"], [0.4444444444444444, \"#bd3786\"], [0.5555555555555556, \"#d8576b\"], [0.6666666666666666, \"#ed7953\"], [0.7777777777777778, \"#fb9f3a\"], [0.8888888888888888, \"#fdca26\"], [1.0, \"#f0f921\"]], \"type\": \"histogram2d\"}], \"histogram2dcontour\": [{\"colorbar\": {\"outlinewidth\": 0, \"ticks\": \"\"}, \"colorscale\": [[0.0, \"#0d0887\"], [0.1111111111111111, \"#46039f\"], [0.2222222222222222, \"#7201a8\"], [0.3333333333333333, \"#9c179e\"], [0.4444444444444444, \"#bd3786\"], [0.5555555555555556, \"#d8576b\"], [0.6666666666666666, \"#ed7953\"], [0.7777777777777778, \"#fb9f3a\"], [0.8888888888888888, \"#fdca26\"], [1.0, \"#f0f921\"]], \"type\": \"histogram2dcontour\"}], \"mesh3d\": [{\"colorbar\": {\"outlinewidth\": 0, \"ticks\": \"\"}, \"type\": \"mesh3d\"}], \"parcoords\": [{\"line\": {\"colorbar\": {\"outlinewidth\": 0, \"ticks\": \"\"}}, \"type\": \"parcoords\"}], \"pie\": [{\"automargin\": true, \"type\": \"pie\"}], \"scatter\": [{\"marker\": {\"colorbar\": {\"outlinewidth\": 0, \"ticks\": \"\"}}, \"type\": \"scatter\"}], \"scatter3d\": [{\"line\": {\"colorbar\": {\"outlinewidth\": 0, \"ticks\": \"\"}}, \"marker\": {\"colorbar\": {\"outlinewidth\": 0, \"ticks\": \"\"}}, \"type\": \"scatter3d\"}], \"scattercarpet\": [{\"marker\": {\"colorbar\": {\"outlinewidth\": 0, \"ticks\": \"\"}}, \"type\": \"scattercarpet\"}], \"scattergeo\": [{\"marker\": {\"colorbar\": {\"outlinewidth\": 0, \"ticks\": \"\"}}, \"type\": \"scattergeo\"}], \"scattergl\": [{\"marker\": {\"colorbar\": {\"outlinewidth\": 0, \"ticks\": \"\"}}, \"type\": \"scattergl\"}], \"scattermapbox\": [{\"marker\": {\"colorbar\": {\"outlinewidth\": 0, \"ticks\": \"\"}}, \"type\": \"scattermapbox\"}], \"scatterpolar\": [{\"marker\": {\"colorbar\": {\"outlinewidth\": 0, \"ticks\": \"\"}}, \"type\": \"scatterpolar\"}], \"scatterpolargl\": [{\"marker\": {\"colorbar\": {\"outlinewidth\": 0, \"ticks\": \"\"}}, \"type\": \"scatterpolargl\"}], \"scatterternary\": [{\"marker\": {\"colorbar\": {\"outlinewidth\": 0, \"ticks\": \"\"}}, \"type\": \"scatterternary\"}], \"surface\": [{\"colorbar\": {\"outlinewidth\": 0, \"ticks\": \"\"}, \"colorscale\": [[0.0, \"#0d0887\"], [0.1111111111111111, \"#46039f\"], [0.2222222222222222, \"#7201a8\"], [0.3333333333333333, \"#9c179e\"], [0.4444444444444444, \"#bd3786\"], [0.5555555555555556, \"#d8576b\"], [0.6666666666666666, \"#ed7953\"], [0.7777777777777778, \"#fb9f3a\"], [0.8888888888888888, \"#fdca26\"], [1.0, \"#f0f921\"]], \"type\": \"surface\"}], \"table\": [{\"cells\": {\"fill\": {\"color\": \"#EBF0F8\"}, \"line\": {\"color\": \"white\"}}, \"header\": {\"fill\": {\"color\": \"#C8D4E3\"}, \"line\": {\"color\": \"white\"}}, \"type\": \"table\"}]}, \"layout\": {\"annotationdefaults\": {\"arrowcolor\": \"#2a3f5f\", \"arrowhead\": 0, \"arrowwidth\": 1}, \"coloraxis\": {\"colorbar\": {\"outlinewidth\": 0, \"ticks\": \"\"}}, \"colorscale\": {\"diverging\": [[0, \"#8e0152\"], [0.1, \"#c51b7d\"], [0.2, \"#de77ae\"], [0.3, \"#f1b6da\"], [0.4, \"#fde0ef\"], [0.5, \"#f7f7f7\"], [0.6, \"#e6f5d0\"], [0.7, \"#b8e186\"], [0.8, \"#7fbc41\"], [0.9, \"#4d9221\"], [1, \"#276419\"]], \"sequential\": [[0.0, \"#0d0887\"], [0.1111111111111111, \"#46039f\"], [0.2222222222222222, \"#7201a8\"], [0.3333333333333333, \"#9c179e\"], [0.4444444444444444, \"#bd3786\"], [0.5555555555555556, \"#d8576b\"], [0.6666666666666666, \"#ed7953\"], [0.7777777777777778, \"#fb9f3a\"], [0.8888888888888888, \"#fdca26\"], [1.0, \"#f0f921\"]], \"sequentialminus\": [[0.0, \"#0d0887\"], [0.1111111111111111, \"#46039f\"], [0.2222222222222222, \"#7201a8\"], [0.3333333333333333, \"#9c179e\"], [0.4444444444444444, \"#bd3786\"], [0.5555555555555556, \"#d8576b\"], [0.6666666666666666, \"#ed7953\"], [0.7777777777777778, \"#fb9f3a\"], [0.8888888888888888, \"#fdca26\"], [1.0, \"#f0f921\"]]}, \"colorway\": [\"#636efa\", \"#EF553B\", \"#00cc96\", \"#ab63fa\", \"#FFA15A\", \"#19d3f3\", \"#FF6692\", \"#B6E880\", \"#FF97FF\", \"#FECB52\"], \"font\": {\"color\": \"#2a3f5f\"}, \"geo\": {\"bgcolor\": \"white\", \"lakecolor\": \"white\", \"landcolor\": \"#E5ECF6\", \"showlakes\": true, \"showland\": true, \"subunitcolor\": \"white\"}, \"hoverlabel\": {\"align\": \"left\"}, \"hovermode\": \"closest\", \"mapbox\": {\"style\": \"light\"}, \"paper_bgcolor\": \"white\", \"plot_bgcolor\": \"#E5ECF6\", \"polar\": {\"angularaxis\": {\"gridcolor\": \"white\", \"linecolor\": \"white\", \"ticks\": \"\"}, \"bgcolor\": \"#E5ECF6\", \"radialaxis\": {\"gridcolor\": \"white\", \"linecolor\": \"white\", \"ticks\": \"\"}}, \"scene\": {\"xaxis\": {\"backgroundcolor\": \"#E5ECF6\", \"gridcolor\": \"white\", \"gridwidth\": 2, \"linecolor\": \"white\", \"showbackground\": true, \"ticks\": \"\", \"zerolinecolor\": \"white\"}, \"yaxis\": {\"backgroundcolor\": \"#E5ECF6\", \"gridcolor\": \"white\", \"gridwidth\": 2, \"linecolor\": \"white\", \"showbackground\": true, \"ticks\": \"\", \"zerolinecolor\": \"white\"}, \"zaxis\": {\"backgroundcolor\": \"#E5ECF6\", \"gridcolor\": \"white\", \"gridwidth\": 2, \"linecolor\": \"white\", \"showbackground\": true, \"ticks\": \"\", \"zerolinecolor\": \"white\"}}, \"shapedefaults\": {\"line\": {\"color\": \"#2a3f5f\"}}, \"ternary\": {\"aaxis\": {\"gridcolor\": \"white\", \"linecolor\": \"white\", \"ticks\": \"\"}, \"baxis\": {\"gridcolor\": \"white\", \"linecolor\": \"white\", \"ticks\": \"\"}, \"bgcolor\": \"#E5ECF6\", \"caxis\": {\"gridcolor\": \"white\", \"linecolor\": \"white\", \"ticks\": \"\"}}, \"title\": {\"x\": 0.05}, \"xaxis\": {\"automargin\": true, \"gridcolor\": \"white\", \"linecolor\": \"white\", \"ticks\": \"\", \"title\": {\"standoff\": 15}, \"zerolinecolor\": \"white\", \"zerolinewidth\": 2}, \"yaxis\": {\"automargin\": true, \"gridcolor\": \"white\", \"linecolor\": \"white\", \"ticks\": \"\", \"title\": {\"standoff\": 15}, \"zerolinecolor\": \"white\", \"zerolinewidth\": 2}}}, \"title\": {\"text\": \"Active Cases in World\"}},\n",
       "                        {\"responsive\": true}\n",
       "                    ).then(function(){\n",
       "                            \n",
       "var gd = document.getElementById('4e16b7cc-ad23-4d8a-b105-83311042ccc5');\n",
       "var x = new MutationObserver(function (mutations, observer) {{\n",
       "        var display = window.getComputedStyle(gd).display;\n",
       "        if (!display || display === 'none') {{\n",
       "            console.log([gd, 'removed!']);\n",
       "            Plotly.purge(gd);\n",
       "            observer.disconnect();\n",
       "        }}\n",
       "}});\n",
       "\n",
       "// Listen for the removal of the full notebook cells\n",
       "var notebookContainer = gd.closest('#notebook-container');\n",
       "if (notebookContainer) {{\n",
       "    x.observe(notebookContainer, {childList: true});\n",
       "}}\n",
       "\n",
       "// Listen for the clearing of the current output cell\n",
       "var outputEl = gd.closest('.output');\n",
       "if (outputEl) {{\n",
       "    x.observe(outputEl, {childList: true});\n",
       "}}\n",
       "\n",
       "                        })\n",
       "                };\n",
       "                });\n",
       "            </script>\n",
       "        </div>"
      ]
     },
     "metadata": {},
     "output_type": "display_data"
    }
   ],
   "source": [
    "#PLOTTING ON WORLD MAP\n",
    "figure = px.choropleth(world, locations=\"Country\", locationmode='country names' \n",
    "                       , color=\"active\",hover_name=\"Country\",range_color=[1,1000],\n",
    "                      color_continuous_scale=\"Peach\",title=\"Active Cases in World\")\n",
    "figure.show()"
   ]
  },
  {
   "cell_type": "code",
   "execution_count": 51,
   "metadata": {},
   "outputs": [],
   "source": [
    "world_cases = []\n",
    "total_recovered = [] \n",
    "total_deaths = [] \n",
    "recovery_rate = [] \n",
    "mortality_rate = []\n",
    "\n",
    "confirmed_sum = df.Confirmed.sum()\n",
    "recovered_sum = df.Recovered.sum()\n",
    "death_sum = df.Deaths.sum()\n",
    "world_cases.append(confirmed_sum)\n",
    "total_recovered.append(recovered_sum)\n",
    "total_deaths.append(death_sum)\n",
    "recovery_rate.append(recovered_sum/confirmed_sum)\n",
    "mortality_rate.append(death_sum/confirmed_sum)\n",
    "mean_mortality_rate = np.mean(mortality_rate)\n",
    "mean_recovery_rate = np.mean(recovery_rate)"
   ]
  },
  {
   "cell_type": "code",
   "execution_count": 52,
   "metadata": {},
   "outputs": [
    {
     "name": "stdout",
     "output_type": "stream",
     "text": [
      "Total Confirmed Cases= 183190009\n",
      "Total Recovered Cases= 57256656\n",
      "Total Deaths Cases= 12131584\n",
      "Total Recovery Rate(%)= 31.255337729690268\n",
      "Total Fatality Rate(%)= 6.622404827765472\n"
     ]
    }
   ],
   "source": [
    "print ('Total Confirmed Cases= '+ str(confirmed_sum))\n",
    "print ('Total Recovered Cases= '+ str(recovered_sum))\n",
    "print ('Total Deaths Cases= '+ str(death_sum))\n",
    "print ('Total Recovery Rate(%)= '+ str(mean_recovery_rate*100))\n",
    "print ('Total Fatality Rate(%)= '+ str(mean_mortality_rate*100))"
   ]
  },
  {
   "cell_type": "code",
   "execution_count": 53,
   "metadata": {},
   "outputs": [
    {
     "data": {
      "text/html": [
       "<style  type=\"text/css\" >\n",
       "    #T_885093e4_a048_11ea_99bb_4cbb582c9ea4row0_col1 {\n",
       "            background-color:  #67000d;\n",
       "            color:  #f1f1f1;\n",
       "        }    #T_885093e4_a048_11ea_99bb_4cbb582c9ea4row0_col2 {\n",
       "            background-color:  #67000d;\n",
       "            color:  #f1f1f1;\n",
       "        }    #T_885093e4_a048_11ea_99bb_4cbb582c9ea4row0_col3 {\n",
       "            background-color:  #67000d;\n",
       "            color:  #f1f1f1;\n",
       "        }    #T_885093e4_a048_11ea_99bb_4cbb582c9ea4row0_col4 {\n",
       "            background-color:  #67000d;\n",
       "            color:  #f1f1f1;\n",
       "        }    #T_885093e4_a048_11ea_99bb_4cbb582c9ea4row1_col1 {\n",
       "            background-color:  #fdcbb6;\n",
       "            color:  #000000;\n",
       "        }    #T_885093e4_a048_11ea_99bb_4cbb582c9ea4row1_col2 {\n",
       "            background-color:  #ffefe8;\n",
       "            color:  #000000;\n",
       "        }    #T_885093e4_a048_11ea_99bb_4cbb582c9ea4row1_col3 {\n",
       "            background-color:  #fca689;\n",
       "            color:  #000000;\n",
       "        }    #T_885093e4_a048_11ea_99bb_4cbb582c9ea4row1_col4 {\n",
       "            background-color:  #fdd1be;\n",
       "            color:  #000000;\n",
       "        }    #T_885093e4_a048_11ea_99bb_4cbb582c9ea4row2_col1 {\n",
       "            background-color:  #fedccd;\n",
       "            color:  #000000;\n",
       "        }    #T_885093e4_a048_11ea_99bb_4cbb582c9ea4row2_col2 {\n",
       "            background-color:  #fc9272;\n",
       "            color:  #000000;\n",
       "        }    #T_885093e4_a048_11ea_99bb_4cbb582c9ea4row2_col3 {\n",
       "            background-color:  #fff5f0;\n",
       "            color:  #000000;\n",
       "        }    #T_885093e4_a048_11ea_99bb_4cbb582c9ea4row2_col4 {\n",
       "            background-color:  #fdd2bf;\n",
       "            color:  #000000;\n",
       "        }    #T_885093e4_a048_11ea_99bb_4cbb582c9ea4row3_col1 {\n",
       "            background-color:  #fdc7b2;\n",
       "            color:  #000000;\n",
       "        }    #T_885093e4_a048_11ea_99bb_4cbb582c9ea4row3_col2 {\n",
       "            background-color:  #fcbea5;\n",
       "            color:  #000000;\n",
       "        }    #T_885093e4_a048_11ea_99bb_4cbb582c9ea4row3_col3 {\n",
       "            background-color:  #fc8969;\n",
       "            color:  #000000;\n",
       "        }    #T_885093e4_a048_11ea_99bb_4cbb582c9ea4row3_col4 {\n",
       "            background-color:  #fed9c9;\n",
       "            color:  #000000;\n",
       "        }    #T_885093e4_a048_11ea_99bb_4cbb582c9ea4row4_col1 {\n",
       "            background-color:  #fee6da;\n",
       "            color:  #000000;\n",
       "        }    #T_885093e4_a048_11ea_99bb_4cbb582c9ea4row4_col2 {\n",
       "            background-color:  #fcae92;\n",
       "            color:  #000000;\n",
       "        }    #T_885093e4_a048_11ea_99bb_4cbb582c9ea4row4_col3 {\n",
       "            background-color:  #fdd2bf;\n",
       "            color:  #000000;\n",
       "        }    #T_885093e4_a048_11ea_99bb_4cbb582c9ea4row4_col4 {\n",
       "            background-color:  #ffece3;\n",
       "            color:  #000000;\n",
       "        }    #T_885093e4_a048_11ea_99bb_4cbb582c9ea4row5_col1 {\n",
       "            background-color:  #fff0e8;\n",
       "            color:  #000000;\n",
       "        }    #T_885093e4_a048_11ea_99bb_4cbb582c9ea4row5_col2 {\n",
       "            background-color:  #feeae0;\n",
       "            color:  #000000;\n",
       "        }    #T_885093e4_a048_11ea_99bb_4cbb582c9ea4row5_col3 {\n",
       "            background-color:  #fff5f0;\n",
       "            color:  #000000;\n",
       "        }    #T_885093e4_a048_11ea_99bb_4cbb582c9ea4row5_col4 {\n",
       "            background-color:  #ffede5;\n",
       "            color:  #000000;\n",
       "        }    #T_885093e4_a048_11ea_99bb_4cbb582c9ea4row6_col1 {\n",
       "            background-color:  #feeae0;\n",
       "            color:  #000000;\n",
       "        }    #T_885093e4_a048_11ea_99bb_4cbb582c9ea4row6_col2 {\n",
       "            background-color:  #ffeee7;\n",
       "            color:  #000000;\n",
       "        }    #T_885093e4_a048_11ea_99bb_4cbb582c9ea4row6_col3 {\n",
       "            background-color:  #fdd7c6;\n",
       "            color:  #000000;\n",
       "        }    #T_885093e4_a048_11ea_99bb_4cbb582c9ea4row6_col4 {\n",
       "            background-color:  #ffede5;\n",
       "            color:  #000000;\n",
       "        }    #T_885093e4_a048_11ea_99bb_4cbb582c9ea4row7_col1 {\n",
       "            background-color:  #ffece3;\n",
       "            color:  #000000;\n",
       "        }    #T_885093e4_a048_11ea_99bb_4cbb582c9ea4row7_col2 {\n",
       "            background-color:  #ffefe8;\n",
       "            color:  #000000;\n",
       "        }    #T_885093e4_a048_11ea_99bb_4cbb582c9ea4row7_col3 {\n",
       "            background-color:  #fedecf;\n",
       "            color:  #000000;\n",
       "        }    #T_885093e4_a048_11ea_99bb_4cbb582c9ea4row7_col4 {\n",
       "            background-color:  #ffeee7;\n",
       "            color:  #000000;\n",
       "        }    #T_885093e4_a048_11ea_99bb_4cbb582c9ea4row8_col1 {\n",
       "            background-color:  #fee1d3;\n",
       "            color:  #000000;\n",
       "        }    #T_885093e4_a048_11ea_99bb_4cbb582c9ea4row8_col2 {\n",
       "            background-color:  #fcb499;\n",
       "            color:  #000000;\n",
       "        }    #T_885093e4_a048_11ea_99bb_4cbb582c9ea4row8_col3 {\n",
       "            background-color:  #fc8b6b;\n",
       "            color:  #000000;\n",
       "        }    #T_885093e4_a048_11ea_99bb_4cbb582c9ea4row8_col4 {\n",
       "            background-color:  #fff0e9;\n",
       "            color:  #000000;\n",
       "        }    #T_885093e4_a048_11ea_99bb_4cbb582c9ea4row9_col1 {\n",
       "            background-color:  #fee1d4;\n",
       "            color:  #000000;\n",
       "        }    #T_885093e4_a048_11ea_99bb_4cbb582c9ea4row9_col2 {\n",
       "            background-color:  #fca082;\n",
       "            color:  #000000;\n",
       "        }    #T_885093e4_a048_11ea_99bb_4cbb582c9ea4row9_col3 {\n",
       "            background-color:  #fc9373;\n",
       "            color:  #000000;\n",
       "        }    #T_885093e4_a048_11ea_99bb_4cbb582c9ea4row9_col4 {\n",
       "            background-color:  #fff0e9;\n",
       "            color:  #000000;\n",
       "        }    #T_885093e4_a048_11ea_99bb_4cbb582c9ea4row10_col1 {\n",
       "            background-color:  #fff1ea;\n",
       "            color:  #000000;\n",
       "        }    #T_885093e4_a048_11ea_99bb_4cbb582c9ea4row10_col2 {\n",
       "            background-color:  #fff4ef;\n",
       "            color:  #000000;\n",
       "        }    #T_885093e4_a048_11ea_99bb_4cbb582c9ea4row10_col3 {\n",
       "            background-color:  #fee8de;\n",
       "            color:  #000000;\n",
       "        }    #T_885093e4_a048_11ea_99bb_4cbb582c9ea4row10_col4 {\n",
       "            background-color:  #fff2ec;\n",
       "            color:  #000000;\n",
       "        }    #T_885093e4_a048_11ea_99bb_4cbb582c9ea4row11_col1 {\n",
       "            background-color:  #fff4ef;\n",
       "            color:  #000000;\n",
       "        }    #T_885093e4_a048_11ea_99bb_4cbb582c9ea4row11_col2 {\n",
       "            background-color:  #ffebe2;\n",
       "            color:  #000000;\n",
       "        }    #T_885093e4_a048_11ea_99bb_4cbb582c9ea4row11_col3 {\n",
       "            background-color:  #fff5f0;\n",
       "            color:  #000000;\n",
       "        }    #T_885093e4_a048_11ea_99bb_4cbb582c9ea4row11_col4 {\n",
       "            background-color:  #fff3ed;\n",
       "            color:  #000000;\n",
       "        }    #T_885093e4_a048_11ea_99bb_4cbb582c9ea4row12_col1 {\n",
       "            background-color:  #fff3ed;\n",
       "            color:  #000000;\n",
       "        }    #T_885093e4_a048_11ea_99bb_4cbb582c9ea4row12_col2 {\n",
       "            background-color:  #fff4ee;\n",
       "            color:  #000000;\n",
       "        }    #T_885093e4_a048_11ea_99bb_4cbb582c9ea4row12_col3 {\n",
       "            background-color:  #ffeee6;\n",
       "            color:  #000000;\n",
       "        }    #T_885093e4_a048_11ea_99bb_4cbb582c9ea4row12_col4 {\n",
       "            background-color:  #fff3ed;\n",
       "            color:  #000000;\n",
       "        }    #T_885093e4_a048_11ea_99bb_4cbb582c9ea4row13_col1 {\n",
       "            background-color:  #fff4ef;\n",
       "            color:  #000000;\n",
       "        }    #T_885093e4_a048_11ea_99bb_4cbb582c9ea4row13_col2 {\n",
       "            background-color:  #fff5f0;\n",
       "            color:  #000000;\n",
       "        }    #T_885093e4_a048_11ea_99bb_4cbb582c9ea4row13_col3 {\n",
       "            background-color:  #fff1ea;\n",
       "            color:  #000000;\n",
       "        }    #T_885093e4_a048_11ea_99bb_4cbb582c9ea4row13_col4 {\n",
       "            background-color:  #fff4ee;\n",
       "            color:  #000000;\n",
       "        }    #T_885093e4_a048_11ea_99bb_4cbb582c9ea4row14_col1 {\n",
       "            background-color:  #fee8de;\n",
       "            color:  #000000;\n",
       "        }    #T_885093e4_a048_11ea_99bb_4cbb582c9ea4row14_col2 {\n",
       "            background-color:  #ffeee6;\n",
       "            color:  #000000;\n",
       "        }    #T_885093e4_a048_11ea_99bb_4cbb582c9ea4row14_col3 {\n",
       "            background-color:  #fca588;\n",
       "            color:  #000000;\n",
       "        }    #T_885093e4_a048_11ea_99bb_4cbb582c9ea4row14_col4 {\n",
       "            background-color:  #fff4ee;\n",
       "            color:  #000000;\n",
       "        }    #T_885093e4_a048_11ea_99bb_4cbb582c9ea4row15_col1 {\n",
       "            background-color:  #fff3ed;\n",
       "            color:  #000000;\n",
       "        }    #T_885093e4_a048_11ea_99bb_4cbb582c9ea4row15_col2 {\n",
       "            background-color:  #fee5d9;\n",
       "            color:  #000000;\n",
       "        }    #T_885093e4_a048_11ea_99bb_4cbb582c9ea4row15_col3 {\n",
       "            background-color:  #ffeee7;\n",
       "            color:  #000000;\n",
       "        }    #T_885093e4_a048_11ea_99bb_4cbb582c9ea4row15_col4 {\n",
       "            background-color:  #fff4ee;\n",
       "            color:  #000000;\n",
       "        }    #T_885093e4_a048_11ea_99bb_4cbb582c9ea4row16_col1 {\n",
       "            background-color:  #fff1ea;\n",
       "            color:  #000000;\n",
       "        }    #T_885093e4_a048_11ea_99bb_4cbb582c9ea4row16_col2 {\n",
       "            background-color:  #fff5f0;\n",
       "            color:  #000000;\n",
       "        }    #T_885093e4_a048_11ea_99bb_4cbb582c9ea4row16_col3 {\n",
       "            background-color:  #fee1d4;\n",
       "            color:  #000000;\n",
       "        }    #T_885093e4_a048_11ea_99bb_4cbb582c9ea4row16_col4 {\n",
       "            background-color:  #fff4ef;\n",
       "            color:  #000000;\n",
       "        }    #T_885093e4_a048_11ea_99bb_4cbb582c9ea4row17_col1 {\n",
       "            background-color:  #fff5f0;\n",
       "            color:  #000000;\n",
       "        }    #T_885093e4_a048_11ea_99bb_4cbb582c9ea4row17_col2 {\n",
       "            background-color:  #fff4ef;\n",
       "            color:  #000000;\n",
       "        }    #T_885093e4_a048_11ea_99bb_4cbb582c9ea4row17_col3 {\n",
       "            background-color:  #fff2ec;\n",
       "            color:  #000000;\n",
       "        }    #T_885093e4_a048_11ea_99bb_4cbb582c9ea4row17_col4 {\n",
       "            background-color:  #fff4ef;\n",
       "            color:  #000000;\n",
       "        }    #T_885093e4_a048_11ea_99bb_4cbb582c9ea4row18_col1 {\n",
       "            background-color:  #fff5f0;\n",
       "            color:  #000000;\n",
       "        }    #T_885093e4_a048_11ea_99bb_4cbb582c9ea4row18_col2 {\n",
       "            background-color:  #ffeee7;\n",
       "            color:  #000000;\n",
       "        }    #T_885093e4_a048_11ea_99bb_4cbb582c9ea4row18_col3 {\n",
       "            background-color:  #fff3ed;\n",
       "            color:  #000000;\n",
       "        }    #T_885093e4_a048_11ea_99bb_4cbb582c9ea4row18_col4 {\n",
       "            background-color:  #fff5f0;\n",
       "            color:  #000000;\n",
       "        }    #T_885093e4_a048_11ea_99bb_4cbb582c9ea4row19_col1 {\n",
       "            background-color:  #feeae1;\n",
       "            color:  #000000;\n",
       "        }    #T_885093e4_a048_11ea_99bb_4cbb582c9ea4row19_col2 {\n",
       "            background-color:  #fee8de;\n",
       "            color:  #000000;\n",
       "        }    #T_885093e4_a048_11ea_99bb_4cbb582c9ea4row19_col3 {\n",
       "            background-color:  #fcb095;\n",
       "            color:  #000000;\n",
       "        }    #T_885093e4_a048_11ea_99bb_4cbb582c9ea4row19_col4 {\n",
       "            background-color:  #fff5f0;\n",
       "            color:  #000000;\n",
       "        }</style><table id=\"T_885093e4_a048_11ea_99bb_4cbb582c9ea4\" ><thead>    <tr>        <th class=\"blank level0\" ></th>        <th class=\"col_heading level0 col0\" >Country</th>        <th class=\"col_heading level0 col1\" >Confirmed</th>        <th class=\"col_heading level0 col2\" >Deaths</th>        <th class=\"col_heading level0 col3\" >Recovered</th>        <th class=\"col_heading level0 col4\" >active</th>    </tr></thead><tbody>\n",
       "                <tr>\n",
       "                        <th id=\"T_885093e4_a048_11ea_99bb_4cbb582c9ea4level0_row0\" class=\"row_heading level0 row0\" >0</th>\n",
       "                        <td id=\"T_885093e4_a048_11ea_99bb_4cbb582c9ea4row0_col0\" class=\"data row0 col0\" >US</td>\n",
       "                        <td id=\"T_885093e4_a048_11ea_99bb_4cbb582c9ea4row0_col1\" class=\"data row0 col1\" >1662302</td>\n",
       "                        <td id=\"T_885093e4_a048_11ea_99bb_4cbb582c9ea4row0_col2\" class=\"data row0 col2\" >98220</td>\n",
       "                        <td id=\"T_885093e4_a048_11ea_99bb_4cbb582c9ea4row0_col3\" class=\"data row0 col3\" >379157</td>\n",
       "                        <td id=\"T_885093e4_a048_11ea_99bb_4cbb582c9ea4row0_col4\" class=\"data row0 col4\" >1184925</td>\n",
       "            </tr>\n",
       "            <tr>\n",
       "                        <th id=\"T_885093e4_a048_11ea_99bb_4cbb582c9ea4level0_row1\" class=\"row_heading level0 row1\" >1</th>\n",
       "                        <td id=\"T_885093e4_a048_11ea_99bb_4cbb582c9ea4row1_col0\" class=\"data row1 col0\" >Russia</td>\n",
       "                        <td id=\"T_885093e4_a048_11ea_99bb_4cbb582c9ea4row1_col1\" class=\"data row1 col1\" >353427</td>\n",
       "                        <td id=\"T_885093e4_a048_11ea_99bb_4cbb582c9ea4row1_col2\" class=\"data row1 col2\" >3633</td>\n",
       "                        <td id=\"T_885093e4_a048_11ea_99bb_4cbb582c9ea4row1_col3\" class=\"data row1 col3\" >118798</td>\n",
       "                        <td id=\"T_885093e4_a048_11ea_99bb_4cbb582c9ea4row1_col4\" class=\"data row1 col4\" >230996</td>\n",
       "            </tr>\n",
       "            <tr>\n",
       "                        <th id=\"T_885093e4_a048_11ea_99bb_4cbb582c9ea4level0_row2\" class=\"row_heading level0 row2\" >2</th>\n",
       "                        <td id=\"T_885093e4_a048_11ea_99bb_4cbb582c9ea4row2_col0\" class=\"data row2 col0\" >United Kingdom</td>\n",
       "                        <td id=\"T_885093e4_a048_11ea_99bb_4cbb582c9ea4row2_col1\" class=\"data row2 col1\" >262547</td>\n",
       "                        <td id=\"T_885093e4_a048_11ea_99bb_4cbb582c9ea4row2_col2\" class=\"data row2 col2\" >36996</td>\n",
       "                        <td id=\"T_885093e4_a048_11ea_99bb_4cbb582c9ea4row2_col3\" class=\"data row2 col3\" >1161</td>\n",
       "                        <td id=\"T_885093e4_a048_11ea_99bb_4cbb582c9ea4row2_col4\" class=\"data row2 col4\" >224390</td>\n",
       "            </tr>\n",
       "            <tr>\n",
       "                        <th id=\"T_885093e4_a048_11ea_99bb_4cbb582c9ea4level0_row3\" class=\"row_heading level0 row3\" >3</th>\n",
       "                        <td id=\"T_885093e4_a048_11ea_99bb_4cbb582c9ea4row3_col0\" class=\"data row3 col0\" >Brazil</td>\n",
       "                        <td id=\"T_885093e4_a048_11ea_99bb_4cbb582c9ea4row3_col1\" class=\"data row3 col1\" >374898</td>\n",
       "                        <td id=\"T_885093e4_a048_11ea_99bb_4cbb582c9ea4row3_col2\" class=\"data row3 col2\" >23473</td>\n",
       "                        <td id=\"T_885093e4_a048_11ea_99bb_4cbb582c9ea4row3_col3\" class=\"data row3 col3\" >153833</td>\n",
       "                        <td id=\"T_885093e4_a048_11ea_99bb_4cbb582c9ea4row3_col4\" class=\"data row3 col4\" >197592</td>\n",
       "            </tr>\n",
       "            <tr>\n",
       "                        <th id=\"T_885093e4_a048_11ea_99bb_4cbb582c9ea4level0_row4\" class=\"row_heading level0 row4\" >4</th>\n",
       "                        <td id=\"T_885093e4_a048_11ea_99bb_4cbb582c9ea4row4_col0\" class=\"data row4 col0\" >France</td>\n",
       "                        <td id=\"T_885093e4_a048_11ea_99bb_4cbb582c9ea4row4_col1\" class=\"data row4 col1\" >183067</td>\n",
       "                        <td id=\"T_885093e4_a048_11ea_99bb_4cbb582c9ea4row4_col2\" class=\"data row4 col2\" >28460</td>\n",
       "                        <td id=\"T_885093e4_a048_11ea_99bb_4cbb582c9ea4row4_col3\" class=\"data row4 col3\" >65317</td>\n",
       "                        <td id=\"T_885093e4_a048_11ea_99bb_4cbb582c9ea4row4_col4\" class=\"data row4 col4\" >89290</td>\n",
       "            </tr>\n",
       "            <tr>\n",
       "                        <th id=\"T_885093e4_a048_11ea_99bb_4cbb582c9ea4level0_row5\" class=\"row_heading level0 row5\" >5</th>\n",
       "                        <td id=\"T_885093e4_a048_11ea_99bb_4cbb582c9ea4row5_col0\" class=\"data row5 col0\" >Canada</td>\n",
       "                        <td id=\"T_885093e4_a048_11ea_99bb_4cbb582c9ea4row5_col1\" class=\"data row5 col1\" >87119</td>\n",
       "                        <td id=\"T_885093e4_a048_11ea_99bb_4cbb582c9ea4row5_col2\" class=\"data row5 col2\" >6655</td>\n",
       "                        <td id=\"T_885093e4_a048_11ea_99bb_4cbb582c9ea4row5_col3\" class=\"data row5 col3\" >0</td>\n",
       "                        <td id=\"T_885093e4_a048_11ea_99bb_4cbb582c9ea4row5_col4\" class=\"data row5 col4\" >80464</td>\n",
       "            </tr>\n",
       "            <tr>\n",
       "                        <th id=\"T_885093e4_a048_11ea_99bb_4cbb582c9ea4level0_row6\" class=\"row_heading level0 row6\" >6</th>\n",
       "                        <td id=\"T_885093e4_a048_11ea_99bb_4cbb582c9ea4row6_col0\" class=\"data row6 col0\" >India</td>\n",
       "                        <td id=\"T_885093e4_a048_11ea_99bb_4cbb582c9ea4row6_col1\" class=\"data row6 col1\" >144950</td>\n",
       "                        <td id=\"T_885093e4_a048_11ea_99bb_4cbb582c9ea4row6_col2\" class=\"data row6 col2\" >4172</td>\n",
       "                        <td id=\"T_885093e4_a048_11ea_99bb_4cbb582c9ea4row6_col3\" class=\"data row6 col3\" >60706</td>\n",
       "                        <td id=\"T_885093e4_a048_11ea_99bb_4cbb582c9ea4row6_col4\" class=\"data row6 col4\" >80072</td>\n",
       "            </tr>\n",
       "            <tr>\n",
       "                        <th id=\"T_885093e4_a048_11ea_99bb_4cbb582c9ea4level0_row7\" class=\"row_heading level0 row7\" >7</th>\n",
       "                        <td id=\"T_885093e4_a048_11ea_99bb_4cbb582c9ea4row7_col0\" class=\"data row7 col0\" >Peru</td>\n",
       "                        <td id=\"T_885093e4_a048_11ea_99bb_4cbb582c9ea4row7_col1\" class=\"data row7 col1\" >123979</td>\n",
       "                        <td id=\"T_885093e4_a048_11ea_99bb_4cbb582c9ea4row7_col2\" class=\"data row7 col2\" >3629</td>\n",
       "                        <td id=\"T_885093e4_a048_11ea_99bb_4cbb582c9ea4row7_col3\" class=\"data row7 col3\" >50949</td>\n",
       "                        <td id=\"T_885093e4_a048_11ea_99bb_4cbb582c9ea4row7_col4\" class=\"data row7 col4\" >69401</td>\n",
       "            </tr>\n",
       "            <tr>\n",
       "                        <th id=\"T_885093e4_a048_11ea_99bb_4cbb582c9ea4level0_row8\" class=\"row_heading level0 row8\" >8</th>\n",
       "                        <td id=\"T_885093e4_a048_11ea_99bb_4cbb582c9ea4row8_col0\" class=\"data row8 col0\" >Spain</td>\n",
       "                        <td id=\"T_885093e4_a048_11ea_99bb_4cbb582c9ea4row8_col1\" class=\"data row8 col1\" >235400</td>\n",
       "                        <td id=\"T_885093e4_a048_11ea_99bb_4cbb582c9ea4row8_col2\" class=\"data row8 col2\" >26834</td>\n",
       "                        <td id=\"T_885093e4_a048_11ea_99bb_4cbb582c9ea4row8_col3\" class=\"data row8 col3\" >150376</td>\n",
       "                        <td id=\"T_885093e4_a048_11ea_99bb_4cbb582c9ea4row8_col4\" class=\"data row8 col4\" >58190</td>\n",
       "            </tr>\n",
       "            <tr>\n",
       "                        <th id=\"T_885093e4_a048_11ea_99bb_4cbb582c9ea4level0_row9\" class=\"row_heading level0 row9\" >9</th>\n",
       "                        <td id=\"T_885093e4_a048_11ea_99bb_4cbb582c9ea4row9_col0\" class=\"data row9 col0\" >Italy</td>\n",
       "                        <td id=\"T_885093e4_a048_11ea_99bb_4cbb582c9ea4row9_col1\" class=\"data row9 col1\" >230158</td>\n",
       "                        <td id=\"T_885093e4_a048_11ea_99bb_4cbb582c9ea4row9_col2\" class=\"data row9 col2\" >32877</td>\n",
       "                        <td id=\"T_885093e4_a048_11ea_99bb_4cbb582c9ea4row9_col3\" class=\"data row9 col3\" >141981</td>\n",
       "                        <td id=\"T_885093e4_a048_11ea_99bb_4cbb582c9ea4row9_col4\" class=\"data row9 col4\" >55300</td>\n",
       "            </tr>\n",
       "            <tr>\n",
       "                        <th id=\"T_885093e4_a048_11ea_99bb_4cbb582c9ea4level0_row10\" class=\"row_heading level0 row10\" >10</th>\n",
       "                        <td id=\"T_885093e4_a048_11ea_99bb_4cbb582c9ea4row10_col0\" class=\"data row10 col0\" >Chile</td>\n",
       "                        <td id=\"T_885093e4_a048_11ea_99bb_4cbb582c9ea4row10_col1\" class=\"data row10 col1\" >73997</td>\n",
       "                        <td id=\"T_885093e4_a048_11ea_99bb_4cbb582c9ea4row10_col2\" class=\"data row10 col2\" >761</td>\n",
       "                        <td id=\"T_885093e4_a048_11ea_99bb_4cbb582c9ea4row10_col3\" class=\"data row10 col3\" >29302</td>\n",
       "                        <td id=\"T_885093e4_a048_11ea_99bb_4cbb582c9ea4row10_col4\" class=\"data row10 col4\" >43934</td>\n",
       "            </tr>\n",
       "            <tr>\n",
       "                        <th id=\"T_885093e4_a048_11ea_99bb_4cbb582c9ea4level0_row11\" class=\"row_heading level0 row11\" >11</th>\n",
       "                        <td id=\"T_885093e4_a048_11ea_99bb_4cbb582c9ea4row11_col0\" class=\"data row11 col0\" >Netherlands</td>\n",
       "                        <td id=\"T_885093e4_a048_11ea_99bb_4cbb582c9ea4row11_col1\" class=\"data row11 col1\" >45641</td>\n",
       "                        <td id=\"T_885093e4_a048_11ea_99bb_4cbb582c9ea4row11_col2\" class=\"data row11 col2\" >5849</td>\n",
       "                        <td id=\"T_885093e4_a048_11ea_99bb_4cbb582c9ea4row11_col3\" class=\"data row11 col3\" >168</td>\n",
       "                        <td id=\"T_885093e4_a048_11ea_99bb_4cbb582c9ea4row11_col4\" class=\"data row11 col4\" >39624</td>\n",
       "            </tr>\n",
       "            <tr>\n",
       "                        <th id=\"T_885093e4_a048_11ea_99bb_4cbb582c9ea4level0_row12\" class=\"row_heading level0 row12\" >12</th>\n",
       "                        <td id=\"T_885093e4_a048_11ea_99bb_4cbb582c9ea4row12_col0\" class=\"data row12 col0\" >Pakistan</td>\n",
       "                        <td id=\"T_885093e4_a048_11ea_99bb_4cbb582c9ea4row12_col1\" class=\"data row12 col1\" >56349</td>\n",
       "                        <td id=\"T_885093e4_a048_11ea_99bb_4cbb582c9ea4row12_col2\" class=\"data row12 col2\" >1167</td>\n",
       "                        <td id=\"T_885093e4_a048_11ea_99bb_4cbb582c9ea4row12_col3\" class=\"data row12 col3\" >17482</td>\n",
       "                        <td id=\"T_885093e4_a048_11ea_99bb_4cbb582c9ea4row12_col4\" class=\"data row12 col4\" >37700</td>\n",
       "            </tr>\n",
       "            <tr>\n",
       "                        <th id=\"T_885093e4_a048_11ea_99bb_4cbb582c9ea4level0_row13\" class=\"row_heading level0 row13\" >13</th>\n",
       "                        <td id=\"T_885093e4_a048_11ea_99bb_4cbb582c9ea4row13_col0\" class=\"data row13 col0\" >Qatar</td>\n",
       "                        <td id=\"T_885093e4_a048_11ea_99bb_4cbb582c9ea4row13_col1\" class=\"data row13 col1\" >45465</td>\n",
       "                        <td id=\"T_885093e4_a048_11ea_99bb_4cbb582c9ea4row13_col2\" class=\"data row13 col2\" >26</td>\n",
       "                        <td id=\"T_885093e4_a048_11ea_99bb_4cbb582c9ea4row13_col3\" class=\"data row13 col3\" >10363</td>\n",
       "                        <td id=\"T_885093e4_a048_11ea_99bb_4cbb582c9ea4row13_col4\" class=\"data row13 col4\" >35076</td>\n",
       "            </tr>\n",
       "            <tr>\n",
       "                        <th id=\"T_885093e4_a048_11ea_99bb_4cbb582c9ea4level0_row14\" class=\"row_heading level0 row14\" >14</th>\n",
       "                        <td id=\"T_885093e4_a048_11ea_99bb_4cbb582c9ea4row14_col0\" class=\"data row14 col0\" >Turkey</td>\n",
       "                        <td id=\"T_885093e4_a048_11ea_99bb_4cbb582c9ea4row14_col1\" class=\"data row14 col1\" >157814</td>\n",
       "                        <td id=\"T_885093e4_a048_11ea_99bb_4cbb582c9ea4row14_col2\" class=\"data row14 col2\" >4369</td>\n",
       "                        <td id=\"T_885093e4_a048_11ea_99bb_4cbb582c9ea4row14_col3\" class=\"data row14 col3\" >120015</td>\n",
       "                        <td id=\"T_885093e4_a048_11ea_99bb_4cbb582c9ea4row14_col4\" class=\"data row14 col4\" >33430</td>\n",
       "            </tr>\n",
       "            <tr>\n",
       "                        <th id=\"T_885093e4_a048_11ea_99bb_4cbb582c9ea4level0_row15\" class=\"row_heading level0 row15\" >15</th>\n",
       "                        <td id=\"T_885093e4_a048_11ea_99bb_4cbb582c9ea4row15_col0\" class=\"data row15 col0\" >Belgium</td>\n",
       "                        <td id=\"T_885093e4_a048_11ea_99bb_4cbb582c9ea4row15_col1\" class=\"data row15 col1\" >57342</td>\n",
       "                        <td id=\"T_885093e4_a048_11ea_99bb_4cbb582c9ea4row15_col2\" class=\"data row15 col2\" >9312</td>\n",
       "                        <td id=\"T_885093e4_a048_11ea_99bb_4cbb582c9ea4row15_col3\" class=\"data row15 col3\" >15297</td>\n",
       "                        <td id=\"T_885093e4_a048_11ea_99bb_4cbb582c9ea4row15_col4\" class=\"data row15 col4\" >32733</td>\n",
       "            </tr>\n",
       "            <tr>\n",
       "                        <th id=\"T_885093e4_a048_11ea_99bb_4cbb582c9ea4level0_row16\" class=\"row_heading level0 row16\" >16</th>\n",
       "                        <td id=\"T_885093e4_a048_11ea_99bb_4cbb582c9ea4row16_col0\" class=\"data row16 col0\" >Saudi Arabia</td>\n",
       "                        <td id=\"T_885093e4_a048_11ea_99bb_4cbb582c9ea4row16_col1\" class=\"data row16 col1\" >74795</td>\n",
       "                        <td id=\"T_885093e4_a048_11ea_99bb_4cbb582c9ea4row16_col2\" class=\"data row16 col2\" >399</td>\n",
       "                        <td id=\"T_885093e4_a048_11ea_99bb_4cbb582c9ea4row16_col3\" class=\"data row16 col3\" >45668</td>\n",
       "                        <td id=\"T_885093e4_a048_11ea_99bb_4cbb582c9ea4row16_col4\" class=\"data row16 col4\" >28728</td>\n",
       "            </tr>\n",
       "            <tr>\n",
       "                        <th id=\"T_885093e4_a048_11ea_99bb_4cbb582c9ea4level0_row17\" class=\"row_heading level0 row17\" >17</th>\n",
       "                        <td id=\"T_885093e4_a048_11ea_99bb_4cbb582c9ea4row17_col0\" class=\"data row17 col0\" >Bangladesh</td>\n",
       "                        <td id=\"T_885093e4_a048_11ea_99bb_4cbb582c9ea4row17_col1\" class=\"data row17 col1\" >35585</td>\n",
       "                        <td id=\"T_885093e4_a048_11ea_99bb_4cbb582c9ea4row17_col2\" class=\"data row17 col2\" >501</td>\n",
       "                        <td id=\"T_885093e4_a048_11ea_99bb_4cbb582c9ea4row17_col3\" class=\"data row17 col3\" >7334</td>\n",
       "                        <td id=\"T_885093e4_a048_11ea_99bb_4cbb582c9ea4row17_col4\" class=\"data row17 col4\" >27750</td>\n",
       "            </tr>\n",
       "            <tr>\n",
       "                        <th id=\"T_885093e4_a048_11ea_99bb_4cbb582c9ea4level0_row18\" class=\"row_heading level0 row18\" >18</th>\n",
       "                        <td id=\"T_885093e4_a048_11ea_99bb_4cbb582c9ea4row18_col0\" class=\"data row18 col0\" >Sweden</td>\n",
       "                        <td id=\"T_885093e4_a048_11ea_99bb_4cbb582c9ea4row18_col1\" class=\"data row18 col1\" >33843</td>\n",
       "                        <td id=\"T_885093e4_a048_11ea_99bb_4cbb582c9ea4row18_col2\" class=\"data row18 col2\" >4029</td>\n",
       "                        <td id=\"T_885093e4_a048_11ea_99bb_4cbb582c9ea4row18_col3\" class=\"data row18 col3\" >4971</td>\n",
       "                        <td id=\"T_885093e4_a048_11ea_99bb_4cbb582c9ea4row18_col4\" class=\"data row18 col4\" >24843</td>\n",
       "            </tr>\n",
       "            <tr>\n",
       "                        <th id=\"T_885093e4_a048_11ea_99bb_4cbb582c9ea4level0_row19\" class=\"row_heading level0 row19\" >19</th>\n",
       "                        <td id=\"T_885093e4_a048_11ea_99bb_4cbb582c9ea4row19_col0\" class=\"data row19 col0\" >Iran</td>\n",
       "                        <td id=\"T_885093e4_a048_11ea_99bb_4cbb582c9ea4row19_col1\" class=\"data row19 col1\" >137724</td>\n",
       "                        <td id=\"T_885093e4_a048_11ea_99bb_4cbb582c9ea4row19_col2\" class=\"data row19 col2\" >7451</td>\n",
       "                        <td id=\"T_885093e4_a048_11ea_99bb_4cbb582c9ea4row19_col3\" class=\"data row19 col3\" >107713</td>\n",
       "                        <td id=\"T_885093e4_a048_11ea_99bb_4cbb582c9ea4row19_col4\" class=\"data row19 col4\" >22560</td>\n",
       "            </tr>\n",
       "    </tbody></table>"
      ],
      "text/plain": [
       "<pandas.io.formats.style.Styler at 0x191814345c8>"
      ]
     },
     "execution_count": 53,
     "metadata": {},
     "output_type": "execute_result"
    }
   ],
   "source": [
    "top = top.groupby('Country').sum()\n",
    "top_active = top.sort_values('active', ascending=False).reset_index()\n",
    "top_active.head(20).style.background_gradient(cmap='Reds')"
   ]
  },
  {
   "cell_type": "code",
   "execution_count": 54,
   "metadata": {},
   "outputs": [],
   "source": [
    "top_active = top_active.head(20)"
   ]
  },
  {
   "cell_type": "code",
   "execution_count": 55,
   "metadata": {},
   "outputs": [
    {
     "data": {
      "text/plain": [
       "[Text(0, 0.5, 'Country'), Text(0.5, 0, 'Total Cases')]"
      ]
     },
     "execution_count": 55,
     "metadata": {},
     "output_type": "execute_result"
    },
    {
     "data": {
      "image/png": "[encoded data removed]",
      "text/plain": [
       "<Figure size 1080x720 with 1 Axes>"
      ]
     },
     "metadata": {},
     "output_type": "display_data"
    }
   ],
   "source": [
    "#PLOTTING top 20 active cases country\n",
    "plt.figure(figsize=(15,10))\n",
    "plt.xticks(fontsize=15)\n",
    "plt.yticks(fontsize=15)\n",
    "plt.xlabel(\"Total Cases\",fontsize=20)\n",
    "plt.ylabel(\"Country\",fontsize=20)\n",
    "plt.title(\"Top 20 Countries having most active cases\",fontsize=20)\n",
    "ax = sns.barplot(x=top_active.active,y=top_active.Country)\n",
    "ax.set(xlabel=\"Total Cases\",ylabel=\"Country\")"
   ]
  },
  {
   "cell_type": "code",
   "execution_count": 56,
   "metadata": {},
   "outputs": [
    {
     "data": {
      "image/png": "[encoded data removed]",
      "text/plain": [
       "<Figure size 1296x648 with 1 Axes>"
      ]
     },
     "metadata": {},
     "output_type": "display_data"
    }
   ],
   "source": [
    "### Sort the top countries by Confirmed cases\n",
    "top.sort_values(['Confirmed'], ascending=False, axis=0, inplace=True)\n",
    "# get the top entries\n",
    "top_countries = top.head(20)\n",
    "### Show Unstacked Histogram\n",
    "top_countries.plot(kind='bar', figsize=(18, 9), stacked=False, \n",
    "            color=['yellow', 'red', 'green', 'orange'])\n",
    "plt.title('Number of Cases for top 20 Countries')\n",
    "plt.ylabel('Number of Cases')\n",
    "plt.xlabel('Countries')\n",
    "plt.show()"
   ]
  },
  {
   "cell_type": "markdown",
   "metadata": {},
   "source": [
    "### Prediction using Prophet"
   ]
  },
  {
   "cell_type": "code",
   "execution_count": 57,
   "metadata": {},
   "outputs": [],
   "source": [
    "from fbprophet import Prophet"
   ]
  },
  {
   "cell_type": "code",
   "execution_count": 58,
   "metadata": {},
   "outputs": [],
   "source": [
    "confirmed = df.groupby('Date').sum()['Confirmed'].reset_index()\n",
    "deaths = df.groupby('Date').sum()['Deaths'].reset_index()\n",
    "recovered = df.groupby('Date').sum()['Recovered'].reset_index()"
   ]
  },
  {
   "cell_type": "code",
   "execution_count": 59,
   "metadata": {},
   "outputs": [],
   "source": [
    "confirmed.columns = ['ds','y']\n",
    "deaths.columns =['ds','y']\n",
    "recovered.columns =['ds','y']"
   ]
  },
  {
   "cell_type": "code",
   "execution_count": 60,
   "metadata": {},
   "outputs": [],
   "source": [
    "confirmed['ds'] = pd.to_datetime(confirmed['ds'])\n",
    "deaths['ds'] = pd.to_datetime(deaths['ds'])  \n",
    "recovered['ds'] = pd.to_datetime(recovered['ds'])  "
   ]
  },
  {
   "cell_type": "markdown",
   "metadata": {},
   "source": [
    "#### Prediction for confirmed cases"
   ]
  },
  {
   "cell_type": "code",
   "execution_count": 61,
   "metadata": {},
   "outputs": [
    {
     "name": "stderr",
     "output_type": "stream",
     "text": [
      "INFO:fbprophet:Disabling yearly seasonality. Run prophet with yearly_seasonality=True to override this.\n",
      "INFO:fbprophet:Disabling daily seasonality. Run prophet with daily_seasonality=True to override this.\n"
     ]
    },
    {
     "data": {
      "text/plain": [
       "<fbprophet.forecaster.Prophet at 0x191849fdc08>"
      ]
     },
     "execution_count": 61,
     "metadata": {},
     "output_type": "execute_result"
    }
   ],
   "source": [
    "model = Prophet(interval_width=0.95) \n",
    "model.fit(confirmed)  "
   ]
  },
  {
   "cell_type": "code",
   "execution_count": 62,
   "metadata": {},
   "outputs": [
    {
     "data": {
      "text/html": [
       "<div>\n",
       "<style scoped>\n",
       "    .dataframe tbody tr th:only-of-type {\n",
       "        vertical-align: middle;\n",
       "    }\n",
       "\n",
       "    .dataframe tbody tr th {\n",
       "        vertical-align: top;\n",
       "    }\n",
       "\n",
       "    .dataframe thead th {\n",
       "        text-align: right;\n",
       "    }\n",
       "</style>\n",
       "<table border=\"1\" class=\"dataframe\">\n",
       "  <thead>\n",
       "    <tr style=\"text-align: right;\">\n",
       "      <th></th>\n",
       "      <th>ds</th>\n",
       "    </tr>\n",
       "  </thead>\n",
       "  <tbody>\n",
       "    <tr>\n",
       "      <th>125</th>\n",
       "      <td>2020-05-26</td>\n",
       "    </tr>\n",
       "    <tr>\n",
       "      <th>126</th>\n",
       "      <td>2020-05-27</td>\n",
       "    </tr>\n",
       "    <tr>\n",
       "      <th>127</th>\n",
       "      <td>2020-05-28</td>\n",
       "    </tr>\n",
       "    <tr>\n",
       "      <th>128</th>\n",
       "      <td>2020-05-29</td>\n",
       "    </tr>\n",
       "    <tr>\n",
       "      <th>129</th>\n",
       "      <td>2020-05-30</td>\n",
       "    </tr>\n",
       "    <tr>\n",
       "      <th>130</th>\n",
       "      <td>2020-05-31</td>\n",
       "    </tr>\n",
       "    <tr>\n",
       "      <th>131</th>\n",
       "      <td>2020-06-01</td>\n",
       "    </tr>\n",
       "    <tr>\n",
       "      <th>132</th>\n",
       "      <td>2020-06-02</td>\n",
       "    </tr>\n",
       "    <tr>\n",
       "      <th>133</th>\n",
       "      <td>2020-06-03</td>\n",
       "    </tr>\n",
       "    <tr>\n",
       "      <th>134</th>\n",
       "      <td>2020-06-04</td>\n",
       "    </tr>\n",
       "  </tbody>\n",
       "</table>\n",
       "</div>"
      ],
      "text/plain": [
       "            ds\n",
       "125 2020-05-26\n",
       "126 2020-05-27\n",
       "127 2020-05-28\n",
       "128 2020-05-29\n",
       "129 2020-05-30\n",
       "130 2020-05-31\n",
       "131 2020-06-01\n",
       "132 2020-06-02\n",
       "133 2020-06-03\n",
       "134 2020-06-04"
      ]
     },
     "execution_count": 62,
     "metadata": {},
     "output_type": "execute_result"
    }
   ],
   "source": [
    "future = model.make_future_dataframe(periods=10) \n",
    "future.tail(10)"
   ]
  },
  {
   "cell_type": "code",
   "execution_count": 63,
   "metadata": {},
   "outputs": [
    {
     "data": {
      "text/html": [
       "<div>\n",
       "<style scoped>\n",
       "    .dataframe tbody tr th:only-of-type {\n",
       "        vertical-align: middle;\n",
       "    }\n",
       "\n",
       "    .dataframe tbody tr th {\n",
       "        vertical-align: top;\n",
       "    }\n",
       "\n",
       "    .dataframe thead th {\n",
       "        text-align: right;\n",
       "    }\n",
       "</style>\n",
       "<table border=\"1\" class=\"dataframe\">\n",
       "  <thead>\n",
       "    <tr style=\"text-align: right;\">\n",
       "      <th></th>\n",
       "      <th>ds</th>\n",
       "      <th>trend</th>\n",
       "      <th>yhat_lower</th>\n",
       "      <th>yhat_upper</th>\n",
       "      <th>trend_lower</th>\n",
       "      <th>trend_upper</th>\n",
       "      <th>additive_terms</th>\n",
       "      <th>additive_terms_lower</th>\n",
       "      <th>additive_terms_upper</th>\n",
       "      <th>weekly</th>\n",
       "      <th>weekly_lower</th>\n",
       "      <th>weekly_upper</th>\n",
       "      <th>multiplicative_terms</th>\n",
       "      <th>multiplicative_terms_lower</th>\n",
       "      <th>multiplicative_terms_upper</th>\n",
       "      <th>yhat</th>\n",
       "    </tr>\n",
       "  </thead>\n",
       "  <tbody>\n",
       "    <tr>\n",
       "      <th>0</th>\n",
       "      <td>2020-01-22</td>\n",
       "      <td>-3768.451480</td>\n",
       "      <td>-29796.598630</td>\n",
       "      <td>14600.911942</td>\n",
       "      <td>-3768.451480</td>\n",
       "      <td>-3768.451480</td>\n",
       "      <td>-4666.884214</td>\n",
       "      <td>-4666.884214</td>\n",
       "      <td>-4666.884214</td>\n",
       "      <td>-4666.884214</td>\n",
       "      <td>-4666.884214</td>\n",
       "      <td>-4666.884214</td>\n",
       "      <td>0.0</td>\n",
       "      <td>0.0</td>\n",
       "      <td>0.0</td>\n",
       "      <td>-8435.335693</td>\n",
       "    </tr>\n",
       "    <tr>\n",
       "      <th>1</th>\n",
       "      <td>2020-01-23</td>\n",
       "      <td>-2226.886615</td>\n",
       "      <td>-23833.069767</td>\n",
       "      <td>20151.098244</td>\n",
       "      <td>-2226.886615</td>\n",
       "      <td>-2226.886615</td>\n",
       "      <td>-316.048046</td>\n",
       "      <td>-316.048046</td>\n",
       "      <td>-316.048046</td>\n",
       "      <td>-316.048046</td>\n",
       "      <td>-316.048046</td>\n",
       "      <td>-316.048046</td>\n",
       "      <td>0.0</td>\n",
       "      <td>0.0</td>\n",
       "      <td>0.0</td>\n",
       "      <td>-2542.934661</td>\n",
       "    </tr>\n",
       "    <tr>\n",
       "      <th>2</th>\n",
       "      <td>2020-01-24</td>\n",
       "      <td>-685.321750</td>\n",
       "      <td>-18877.148098</td>\n",
       "      <td>25905.588920</td>\n",
       "      <td>-685.321750</td>\n",
       "      <td>-685.321750</td>\n",
       "      <td>4054.100258</td>\n",
       "      <td>4054.100258</td>\n",
       "      <td>4054.100258</td>\n",
       "      <td>4054.100258</td>\n",
       "      <td>4054.100258</td>\n",
       "      <td>4054.100258</td>\n",
       "      <td>0.0</td>\n",
       "      <td>0.0</td>\n",
       "      <td>0.0</td>\n",
       "      <td>3368.778509</td>\n",
       "    </tr>\n",
       "    <tr>\n",
       "      <th>3</th>\n",
       "      <td>2020-01-25</td>\n",
       "      <td>856.243115</td>\n",
       "      <td>-16566.951290</td>\n",
       "      <td>29392.498793</td>\n",
       "      <td>856.243115</td>\n",
       "      <td>856.243115</td>\n",
       "      <td>4617.377962</td>\n",
       "      <td>4617.377962</td>\n",
       "      <td>4617.377962</td>\n",
       "      <td>4617.377962</td>\n",
       "      <td>4617.377962</td>\n",
       "      <td>4617.377962</td>\n",
       "      <td>0.0</td>\n",
       "      <td>0.0</td>\n",
       "      <td>0.0</td>\n",
       "      <td>5473.621078</td>\n",
       "    </tr>\n",
       "    <tr>\n",
       "      <th>4</th>\n",
       "      <td>2020-01-26</td>\n",
       "      <td>2397.807980</td>\n",
       "      <td>-17557.702565</td>\n",
       "      <td>27511.722674</td>\n",
       "      <td>2397.807980</td>\n",
       "      <td>2397.807980</td>\n",
       "      <td>3019.034771</td>\n",
       "      <td>3019.034771</td>\n",
       "      <td>3019.034771</td>\n",
       "      <td>3019.034771</td>\n",
       "      <td>3019.034771</td>\n",
       "      <td>3019.034771</td>\n",
       "      <td>0.0</td>\n",
       "      <td>0.0</td>\n",
       "      <td>0.0</td>\n",
       "      <td>5416.842751</td>\n",
       "    </tr>\n",
       "    <tr>\n",
       "      <th>5</th>\n",
       "      <td>2020-01-27</td>\n",
       "      <td>3939.375845</td>\n",
       "      <td>-20551.721591</td>\n",
       "      <td>25337.958018</td>\n",
       "      <td>3939.375845</td>\n",
       "      <td>3939.375845</td>\n",
       "      <td>-1120.868200</td>\n",
       "      <td>-1120.868200</td>\n",
       "      <td>-1120.868200</td>\n",
       "      <td>-1120.868200</td>\n",
       "      <td>-1120.868200</td>\n",
       "      <td>-1120.868200</td>\n",
       "      <td>0.0</td>\n",
       "      <td>0.0</td>\n",
       "      <td>0.0</td>\n",
       "      <td>2818.507645</td>\n",
       "    </tr>\n",
       "    <tr>\n",
       "      <th>6</th>\n",
       "      <td>2020-01-28</td>\n",
       "      <td>5480.943709</td>\n",
       "      <td>-21773.962331</td>\n",
       "      <td>21830.100651</td>\n",
       "      <td>5480.943709</td>\n",
       "      <td>5480.943709</td>\n",
       "      <td>-5586.712532</td>\n",
       "      <td>-5586.712532</td>\n",
       "      <td>-5586.712532</td>\n",
       "      <td>-5586.712532</td>\n",
       "      <td>-5586.712532</td>\n",
       "      <td>-5586.712532</td>\n",
       "      <td>0.0</td>\n",
       "      <td>0.0</td>\n",
       "      <td>0.0</td>\n",
       "      <td>-105.768822</td>\n",
       "    </tr>\n",
       "    <tr>\n",
       "      <th>7</th>\n",
       "      <td>2020-01-29</td>\n",
       "      <td>7022.511574</td>\n",
       "      <td>-21750.928954</td>\n",
       "      <td>24849.873822</td>\n",
       "      <td>7022.511574</td>\n",
       "      <td>7022.511574</td>\n",
       "      <td>-4666.884214</td>\n",
       "      <td>-4666.884214</td>\n",
       "      <td>-4666.884214</td>\n",
       "      <td>-4666.884214</td>\n",
       "      <td>-4666.884214</td>\n",
       "      <td>-4666.884214</td>\n",
       "      <td>0.0</td>\n",
       "      <td>0.0</td>\n",
       "      <td>0.0</td>\n",
       "      <td>2355.627360</td>\n",
       "    </tr>\n",
       "    <tr>\n",
       "      <th>8</th>\n",
       "      <td>2020-01-30</td>\n",
       "      <td>8564.079438</td>\n",
       "      <td>-16344.957295</td>\n",
       "      <td>29316.891786</td>\n",
       "      <td>8564.079438</td>\n",
       "      <td>8564.079438</td>\n",
       "      <td>-316.048046</td>\n",
       "      <td>-316.048046</td>\n",
       "      <td>-316.048046</td>\n",
       "      <td>-316.048046</td>\n",
       "      <td>-316.048046</td>\n",
       "      <td>-316.048046</td>\n",
       "      <td>0.0</td>\n",
       "      <td>0.0</td>\n",
       "      <td>0.0</td>\n",
       "      <td>8248.031392</td>\n",
       "    </tr>\n",
       "    <tr>\n",
       "      <th>9</th>\n",
       "      <td>2020-01-31</td>\n",
       "      <td>11882.933874</td>\n",
       "      <td>-5541.487691</td>\n",
       "      <td>37723.774399</td>\n",
       "      <td>11882.933874</td>\n",
       "      <td>11882.933874</td>\n",
       "      <td>4054.100258</td>\n",
       "      <td>4054.100258</td>\n",
       "      <td>4054.100258</td>\n",
       "      <td>4054.100258</td>\n",
       "      <td>4054.100258</td>\n",
       "      <td>4054.100258</td>\n",
       "      <td>0.0</td>\n",
       "      <td>0.0</td>\n",
       "      <td>0.0</td>\n",
       "      <td>15937.034132</td>\n",
       "    </tr>\n",
       "  </tbody>\n",
       "</table>\n",
       "</div>"
      ],
      "text/plain": [
       "          ds         trend    yhat_lower    yhat_upper   trend_lower  \\\n",
       "0 2020-01-22  -3768.451480 -29796.598630  14600.911942  -3768.451480   \n",
       "1 2020-01-23  -2226.886615 -23833.069767  20151.098244  -2226.886615   \n",
       "2 2020-01-24   -685.321750 -18877.148098  25905.588920   -685.321750   \n",
       "3 2020-01-25    856.243115 -16566.951290  29392.498793    856.243115   \n",
       "4 2020-01-26   2397.807980 -17557.702565  27511.722674   2397.807980   \n",
       "5 2020-01-27   3939.375845 -20551.721591  25337.958018   3939.375845   \n",
       "6 2020-01-28   5480.943709 -21773.962331  21830.100651   5480.943709   \n",
       "7 2020-01-29   7022.511574 -21750.928954  24849.873822   7022.511574   \n",
       "8 2020-01-30   8564.079438 -16344.957295  29316.891786   8564.079438   \n",
       "9 2020-01-31  11882.933874  -5541.487691  37723.774399  11882.933874   \n",
       "\n",
       "    trend_upper  additive_terms  additive_terms_lower  additive_terms_upper  \\\n",
       "0  -3768.451480    -4666.884214          -4666.884214          -4666.884214   \n",
       "1  -2226.886615     -316.048046           -316.048046           -316.048046   \n",
       "2   -685.321750     4054.100258           4054.100258           4054.100258   \n",
       "3    856.243115     4617.377962           4617.377962           4617.377962   \n",
       "4   2397.807980     3019.034771           3019.034771           3019.034771   \n",
       "5   3939.375845    -1120.868200          -1120.868200          -1120.868200   \n",
       "6   5480.943709    -5586.712532          -5586.712532          -5586.712532   \n",
       "7   7022.511574    -4666.884214          -4666.884214          -4666.884214   \n",
       "8   8564.079438     -316.048046           -316.048046           -316.048046   \n",
       "9  11882.933874     4054.100258           4054.100258           4054.100258   \n",
       "\n",
       "        weekly  weekly_lower  weekly_upper  multiplicative_terms  \\\n",
       "0 -4666.884214  -4666.884214  -4666.884214                   0.0   \n",
       "1  -316.048046   -316.048046   -316.048046                   0.0   \n",
       "2  4054.100258   4054.100258   4054.100258                   0.0   \n",
       "3  4617.377962   4617.377962   4617.377962                   0.0   \n",
       "4  3019.034771   3019.034771   3019.034771                   0.0   \n",
       "5 -1120.868200  -1120.868200  -1120.868200                   0.0   \n",
       "6 -5586.712532  -5586.712532  -5586.712532                   0.0   \n",
       "7 -4666.884214  -4666.884214  -4666.884214                   0.0   \n",
       "8  -316.048046   -316.048046   -316.048046                   0.0   \n",
       "9  4054.100258   4054.100258   4054.100258                   0.0   \n",
       "\n",
       "   multiplicative_terms_lower  multiplicative_terms_upper          yhat  \n",
       "0                         0.0                         0.0  -8435.335693  \n",
       "1                         0.0                         0.0  -2542.934661  \n",
       "2                         0.0                         0.0   3368.778509  \n",
       "3                         0.0                         0.0   5473.621078  \n",
       "4                         0.0                         0.0   5416.842751  \n",
       "5                         0.0                         0.0   2818.507645  \n",
       "6                         0.0                         0.0   -105.768822  \n",
       "7                         0.0                         0.0   2355.627360  \n",
       "8                         0.0                         0.0   8248.031392  \n",
       "9                         0.0                         0.0  15937.034132  "
      ]
     },
     "execution_count": 63,
     "metadata": {},
     "output_type": "execute_result"
    }
   ],
   "source": [
    "#forcast the predicted values\n",
    "forecast = model.predict(future)\n",
    "#data of prediction\n",
    "forecast.head(10)  "
   ]
  },
  {
   "cell_type": "code",
   "execution_count": 64,
   "metadata": {},
   "outputs": [
    {
     "data": {
      "text/html": [
       "<div>\n",
       "<style scoped>\n",
       "    .dataframe tbody tr th:only-of-type {\n",
       "        vertical-align: middle;\n",
       "    }\n",
       "\n",
       "    .dataframe tbody tr th {\n",
       "        vertical-align: top;\n",
       "    }\n",
       "\n",
       "    .dataframe thead th {\n",
       "        text-align: right;\n",
       "    }\n",
       "</style>\n",
       "<table border=\"1\" class=\"dataframe\">\n",
       "  <thead>\n",
       "    <tr style=\"text-align: right;\">\n",
       "      <th></th>\n",
       "      <th>ds</th>\n",
       "      <th>yhat</th>\n",
       "      <th>yhat_lower</th>\n",
       "      <th>yhat_upper</th>\n",
       "    </tr>\n",
       "  </thead>\n",
       "  <tbody>\n",
       "    <tr>\n",
       "      <th>125</th>\n",
       "      <td>2020-05-26</td>\n",
       "      <td>5.531225e+06</td>\n",
       "      <td>5.508350e+06</td>\n",
       "      <td>5.552487e+06</td>\n",
       "    </tr>\n",
       "    <tr>\n",
       "      <th>126</th>\n",
       "      <td>2020-05-27</td>\n",
       "      <td>5.620821e+06</td>\n",
       "      <td>5.595429e+06</td>\n",
       "      <td>5.644257e+06</td>\n",
       "    </tr>\n",
       "    <tr>\n",
       "      <th>127</th>\n",
       "      <td>2020-05-28</td>\n",
       "      <td>5.713849e+06</td>\n",
       "      <td>5.685882e+06</td>\n",
       "      <td>5.738078e+06</td>\n",
       "    </tr>\n",
       "    <tr>\n",
       "      <th>128</th>\n",
       "      <td>2020-05-29</td>\n",
       "      <td>5.806895e+06</td>\n",
       "      <td>5.775244e+06</td>\n",
       "      <td>5.838274e+06</td>\n",
       "    </tr>\n",
       "    <tr>\n",
       "      <th>129</th>\n",
       "      <td>2020-05-30</td>\n",
       "      <td>5.896135e+06</td>\n",
       "      <td>5.858487e+06</td>\n",
       "      <td>5.937687e+06</td>\n",
       "    </tr>\n",
       "    <tr>\n",
       "      <th>130</th>\n",
       "      <td>2020-05-31</td>\n",
       "      <td>5.983213e+06</td>\n",
       "      <td>5.934345e+06</td>\n",
       "      <td>6.039706e+06</td>\n",
       "    </tr>\n",
       "    <tr>\n",
       "      <th>131</th>\n",
       "      <td>2020-06-01</td>\n",
       "      <td>6.067749e+06</td>\n",
       "      <td>6.004358e+06</td>\n",
       "      <td>6.138847e+06</td>\n",
       "    </tr>\n",
       "    <tr>\n",
       "      <th>132</th>\n",
       "      <td>2020-06-02</td>\n",
       "      <td>6.151960e+06</td>\n",
       "      <td>6.079284e+06</td>\n",
       "      <td>6.236383e+06</td>\n",
       "    </tr>\n",
       "    <tr>\n",
       "      <th>133</th>\n",
       "      <td>2020-06-03</td>\n",
       "      <td>6.241556e+06</td>\n",
       "      <td>6.148261e+06</td>\n",
       "      <td>6.336531e+06</td>\n",
       "    </tr>\n",
       "    <tr>\n",
       "      <th>134</th>\n",
       "      <td>2020-06-04</td>\n",
       "      <td>6.334584e+06</td>\n",
       "      <td>6.228688e+06</td>\n",
       "      <td>6.447901e+06</td>\n",
       "    </tr>\n",
       "  </tbody>\n",
       "</table>\n",
       "</div>"
      ],
      "text/plain": [
       "            ds          yhat    yhat_lower    yhat_upper\n",
       "125 2020-05-26  5.531225e+06  5.508350e+06  5.552487e+06\n",
       "126 2020-05-27  5.620821e+06  5.595429e+06  5.644257e+06\n",
       "127 2020-05-28  5.713849e+06  5.685882e+06  5.738078e+06\n",
       "128 2020-05-29  5.806895e+06  5.775244e+06  5.838274e+06\n",
       "129 2020-05-30  5.896135e+06  5.858487e+06  5.937687e+06\n",
       "130 2020-05-31  5.983213e+06  5.934345e+06  6.039706e+06\n",
       "131 2020-06-01  6.067749e+06  6.004358e+06  6.138847e+06\n",
       "132 2020-06-02  6.151960e+06  6.079284e+06  6.236383e+06\n",
       "133 2020-06-03  6.241556e+06  6.148261e+06  6.336531e+06\n",
       "134 2020-06-04  6.334584e+06  6.228688e+06  6.447901e+06"
      ]
     },
     "execution_count": 64,
     "metadata": {},
     "output_type": "execute_result"
    }
   ],
   "source": [
    "forecast[['ds','yhat','yhat_lower','yhat_upper']].tail(10)"
   ]
  },
  {
   "cell_type": "code",
   "execution_count": 65,
   "metadata": {},
   "outputs": [
    {
     "data": {
      "image/png": "[encoded data removed]",
      "text/plain": [
       "<Figure size 720x432 with 1 Axes>"
      ]
     },
     "metadata": {},
     "output_type": "display_data"
    }
   ],
   "source": [
    "confirmed_forecast_plot = model.plot(forecast)"
   ]
  },
  {
   "cell_type": "code",
   "execution_count": 66,
   "metadata": {},
   "outputs": [
    {
     "data": {
      "image/png": "[encoded data removed]",
      "text/plain": [
       "<Figure size 648x432 with 2 Axes>"
      ]
     },
     "metadata": {},
     "output_type": "display_data"
    }
   ],
   "source": [
    "confirmed_forecast_plot = model.plot_components(forecast)"
   ]
  },
  {
   "cell_type": "code",
   "execution_count": null,
   "metadata": {},
   "outputs": [],
   "source": []
  }
 ],
 "metadata": {
  "kernelspec": {
   "display_name": "Python 3",
   "language": "python",
   "name": "python3"
  },
  "language_info": {
   "codemirror_mode": {
    "name": "ipython",
    "version": 3
   },
   "file_extension": ".py",
   "mimetype": "text/x-python",
   "name": "python",
   "nbconvert_exporter": "python",
   "pygments_lexer": "ipython3",
   "version": "3.7.6"
  }
 },
 "nbformat": 4,
 "nbformat_minor": 4
}
